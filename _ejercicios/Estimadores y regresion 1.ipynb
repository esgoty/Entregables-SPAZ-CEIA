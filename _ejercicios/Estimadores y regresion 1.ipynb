{
 "cells": [
  {
   "cell_type": "code",
   "execution_count": 2,
   "metadata": {},
   "outputs": [],
   "source": [
    "import numpy as np\n",
    "import matplotlib.pyplot as plt\n",
    "import seaborn as sns\n",
    "import pandas as pd"
   ]
  },
  {
   "cell_type": "markdown",
   "metadata": {},
   "source": [
    "Poblacion de 500 alumnos.\n",
    "Sea M una muestra de 50 alumnos de esos 500. \n",
    "Sobre M se van a hacer dos mediciones.  Se mediran Alturas en mts \n",
    "Experimento: Para cada alumno se mide altura.\n",
    "VA: Ym es la coleccion de variables aleatorias altura.\n"
   ]
  },
  {
   "cell_type": "code",
   "execution_count": 3,
   "metadata": {},
   "outputs": [],
   "source": [
    "# Poblacion\n",
    "Y =  np.random.normal(loc=1.7,scale=0.5,size=(500,1))\n",
    "\n",
    "# Media poblacional\n",
    "Media = 1.7  #definicion al momento de crear el array.\n"
   ]
  },
  {
   "cell_type": "markdown",
   "metadata": {},
   "source": [
    "Defino mi estimador como X<sup>hat</sup> como la media aritmetica. \n",
    "\n",
    "Para obtener la distribucion de probabilidad de X<sup>hat</sup> (porque es VA). Debo hace muchas observaciones x<sub>i</sub><sup>hat</sup> para definir su distribucion de probabilidad. \n",
    "\n"
   ]
  },
  {
   "cell_type": "code",
   "execution_count": 5,
   "metadata": {},
   "outputs": [
    {
     "name": "stdout",
     "output_type": "stream",
     "text": [
      "[1.73184315 1.77340105 1.76282584 1.73860439 1.77242618 1.74689453\n",
      " 1.60469527 1.64432553 1.80283702 1.62825989 1.74687411 1.75772546\n",
      " 1.75609    1.74306765 1.68497151 1.79122595 1.70445237 1.79572007\n",
      " 1.7169068  1.71368019 1.7551336  1.73922601 1.6226017  1.75674613\n",
      " 1.81791479 1.72438229 1.78782437 1.6112436  1.63267443 1.76185209]\n"
     ]
    }
   ],
   "source": [
    "#Por ejemplo saco 30 muestras de 50 alumnos cada una. \n",
    "\n",
    "Mean_Hat_estimaciones = np.empty(0)\n",
    "\n",
    "for index in range(30):\n",
    "    bin = np.random.randint(0,500, size=50)\n",
    "    Mean_Hat_una_estimacion=np.mean(Y[bin,:])\n",
    "\n",
    "    Mean_Hat_estimaciones= np.append(Mean_Hat_estimaciones, Mean_Hat_una_estimacion)\n",
    "\n",
    "print(Mean_Hat_estimaciones) "
   ]
  },
  {
   "cell_type": "markdown",
   "metadata": {},
   "source": [
    "Será insesgado, si el valor esperado de X<sup>hat</sup> es igual al parametro que se quiere estimar. \n",
    "\n",
    "Es decir, si el valor \"promedio\" de las medias observadas, es igual a la media real de la poblacion"
   ]
  },
  {
   "cell_type": "markdown",
   "metadata": {},
   "source": [
    "# Regresion LINEAL\n",
    "\n",
    "Si ahora tengo una variable que es funcion de otra variable por una regla que no conozco, o no conoca nunca, lo que quiero hacer es obtener un estimador de uno en funcion de la otra. \n",
    "\n",
    "Se demuestra que el mejor estimador es la Esperanza condicionada. pero a veces esto es dificil, y lo que hago es suponer disitntas funciones de estimacion.\n",
    "\n",
    "La mas sencilla es la funcion lineal.\n",
    "\n",
    "\n",
    "\n"
   ]
  }
 ],
 "metadata": {
  "interpreter": {
   "hash": "c28c3cf458679f9b83f61209d65f8a8f2d99f99372cb71f1948565dfdc4b7b2a"
  },
  "kernelspec": {
   "display_name": "Python 3.8.13 ('FIUBA001')",
   "language": "python",
   "name": "python3"
  },
  "language_info": {
   "codemirror_mode": {
    "name": "ipython",
    "version": 3
   },
   "file_extension": ".py",
   "mimetype": "text/x-python",
   "name": "python",
   "nbconvert_exporter": "python",
   "pygments_lexer": "ipython3",
   "version": "3.8.13"
  },
  "orig_nbformat": 4
 },
 "nbformat": 4,
 "nbformat_minor": 2
}

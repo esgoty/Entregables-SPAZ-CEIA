{
 "cells": [
  {
   "cell_type": "markdown",
   "id": "8bddde07",
   "metadata": {},
   "source": [
    "# Trabajo práctico 1 \n",
    "\n"
   ]
  },
  {
   "cell_type": "markdown",
   "id": "a4ddf903",
   "metadata": {},
   "source": [
    "**Human activity recognition**\n",
    "\n",
    "https://archive.ics.uci.edu/ml/datasets/Human+Activity+Recognition+Using+Smartphones\n",
    "\n",
    "https://github.com/FIUBA-Posgrado-Inteligencia-Artificial/intro_ia/tree/cohorte-6/clase_2/jupyterbooks/data\n",
    "\n",
    "**MNIST**\n",
    "\n",
    "    from sklearn.datasets import fetch_openml\n",
    "    X, y = fetch_openml(\"mnist_784\", version=1, return_X_y=True, as_frame=False)\n",
    "\n",
    "\n",
    "Deben maximizarse la cantidad de operaciones vectorizadas en las implementaciones.\n"
   ]
  },
  {
   "cell_type": "markdown",
   "id": "f07915d5",
   "metadata": {},
   "source": [
    "## Ejercicio 1 - Implementar clase PCA con numpy\n",
    "**Dataset** Human activity recognition\n",
    "\n",
    "Tomar las primeras 63 componentes principales y calcular la varianza contemplada. Realizar las operaciones internas con numpy.linalg. "
   ]
  },
  {
   "cell_type": "code",
   "execution_count": 1,
   "id": "dba8dda1",
   "metadata": {},
   "outputs": [],
   "source": [
    "import os\n",
    "import numpy as np\n",
    "import seaborn as sns\n",
    "import matplotlib.pyplot as plt\n",
    "\n",
    "PATH_DATASET = \"./UCI HAR Dataset/train\"\n",
    "X_train = np.loadtxt(os.path.join(PATH_DATASET, \"X_train.txt\"))\n",
    "y_train = np.loadtxt(os.path.join(PATH_DATASET, \"y_train.txt\")).astype(int)\n",
    "\n",
    "print(\"Estructura features del dataset: {}\".format(X_train.shape))\n",
    "print(\"Estructura de las etiquetas: {}\".format(y_train.shape))\n",
    "\n",
    "def standardize_data(arr):\n",
    "    rows, columns = arr.shape\n",
    "    \n",
    "    standardizedArray = np.zeros(shape=(rows, columns))\n",
    "    tempArray = np.zeros(rows)\n",
    "    \n",
    "    for column in range(columns):\n",
    "        \n",
    "        mean = np.mean(arr[:,column])\n",
    "        std = np.std(arr[:,column])\n",
    "        tempArray = np.empty(0)\n",
    "        \n",
    "        for element in arr[:,column]:\n",
    "            \n",
    "            tempArray = np.append(tempArray, ((element - mean) / std))\n",
    " \n",
    "        standardizedArray[:,column] = tempArray\n",
    "    \n",
    "    return standardizedArray\n",
    "\n",
    "X = standardize_data(X_train)"
   ]
  },
  {
   "cell_type": "code",
   "execution_count": 2,
   "id": "976a7f23",
   "metadata": {},
   "outputs": [
    {
     "data": {
      "text/plain": [
       "(7352, 561)"
      ]
     },
     "execution_count": 2,
     "metadata": {},
     "output_type": "execute_result"
    }
   ],
   "source": [
    "X.shape"
   ]
  },
  {
   "cell_type": "code",
   "execution_count": 3,
   "id": "1d28587a",
   "metadata": {},
   "outputs": [],
   "source": [
    "covariance_matrix = np.cov(X.T)"
   ]
  },
  {
   "cell_type": "code",
   "execution_count": 4,
   "id": "76a90aa7",
   "metadata": {},
   "outputs": [],
   "source": [
    "eigen_values, eigen_vectors = np.linalg.eig(covariance_matrix)\n"
   ]
  },
  {
   "cell_type": "code",
   "execution_count": 8,
   "metadata": {},
   "outputs": [
    {
     "name": "stdout",
     "output_type": "stream",
     "text": [
      "[[-2.80886217e-05+0.j -1.56380722e-02+0.j  3.24820577e-02+0.j ...\n",
      "   5.46275882e-02+0.j -5.92962342e-02+0.j  3.46215394e-02+0.j]\n",
      " [ 2.47348433e-03+0.j  8.03820536e-05+0.j -2.69527509e-03+0.j ...\n",
      "   1.69903546e-01+0.j -8.32321260e-02+0.j  1.04288745e-01+0.j]\n",
      " [ 1.52730914e-03+0.j  4.05212976e-03+0.j -1.01672220e-02+0.j ...\n",
      "   8.66818300e-02+0.j  4.17327773e-02+0.j -1.50691329e-02+0.j]\n",
      " ...\n",
      " [ 2.31004290e-02+0.j -1.74761761e-02+0.j -1.07507871e-01+0.j ...\n",
      "   1.66554139e-02+0.j  9.54552829e-03+0.j -1.52077301e-02+0.j]\n",
      " [-2.97187859e-02+0.j  3.52131796e-02+0.j  8.00525165e-02+0.j ...\n",
      "  -3.87564698e-02+0.j -3.76294987e-02+0.j -1.43815448e-02+0.j]\n",
      " [-2.66216889e-02+0.j  1.72777838e-02+0.j  6.44242263e-02+0.j ...\n",
      "   2.73587755e-02+0.j -1.59538706e-02+0.j  2.45924115e-02+0.j]]\n",
      "[[ 16.13854371+0.j  -2.15202401+0.j  -3.14478025+0.j ...  -0.38277413+0.j\n",
      "   -1.078217  +0.j  -0.8412814 +0.j]\n",
      " [ 15.2961943 +0.j  -1.38714378+0.j   0.68222107+0.j ...  -0.10698667+0.j\n",
      "   -0.03496259+0.j  -0.07574162+0.j]\n",
      " [ 15.13701861+0.j  -2.47335094+0.j   1.75664057+0.j ...   1.15345177+0.j\n",
      "    0.46559832+0.j  -0.95607393+0.j]\n",
      " ...\n",
      " [-14.33343587+0.j  12.26071193+0.j  -4.0259462 +0.j ...   1.85275908+0.j\n",
      "   -0.38500849+0.j  -1.31406648+0.j]\n",
      " [-12.87601895+0.j  14.07125595+0.j  -2.91606098+0.j ...   1.52019423+0.j\n",
      "    0.41593742+0.j  -0.98541719+0.j]\n",
      " [-13.01610365+0.j  12.24426121+0.j  -1.33604965+0.j ...   0.43671651+0.j\n",
      "    0.7913548 +0.j  -0.49821793+0.j]]\n"
     ]
    }
   ],
   "source": [
    "idx = eigen_values.argsort()[::-1]   \n",
    "eigenValues_order = eigen_values[idx]\n",
    "eigenVectors_order = eigen_vectors[:,idx]\n",
    "\n",
    "\n",
    "variance_explained = []\n",
    "for i in eigen_values:\n",
    "     variance_explained.append((i/sum(eigen_values))*100)\n",
    "        \n",
    "\n",
    "\n",
    "cumulative_variance_explained = np.cumsum(variance_explained)\n",
    "\n",
    "\n",
    "\n",
    "projection_matrix = (eigen_vectors.T[:][:64]).T\n",
    "\n",
    "\n",
    "\n",
    "X_pca = X.dot(projection_matrix)\n"
   ]
  },
  {
   "cell_type": "markdown",
   "id": "2de2733a",
   "metadata": {},
   "source": [
    "## Ejercicio 2 - Implementar clase KMeans con numpy\n",
    "**Dataset** Human activity recognition\n",
    "\n",
    "Implementar kmeans con numpy. Agrupar el dataset transformado (ejercicio de PCA) y agrupar en clusters de k=2 y 6. Graficar los casos de k=2 y k=6 con las primeras dos componentes principales."
   ]
  },
  {
   "cell_type": "code",
   "execution_count": null,
   "id": "4180a5e5",
   "metadata": {},
   "outputs": [],
   "source": [
    "# not implemented"
   ]
  },
  {
   "cell_type": "markdown",
   "id": "fe48063a",
   "metadata": {},
   "source": [
    "## Ejercicio 3 - Comparar los ejercicios anteriores con lo visto en las clases"
   ]
  },
  {
   "cell_type": "code",
   "execution_count": null,
   "id": "e4e8fa89",
   "metadata": {},
   "outputs": [],
   "source": [
    "# not implemented"
   ]
  },
  {
   "cell_type": "markdown",
   "id": "c6b83908",
   "metadata": {},
   "source": [
    "## Ejercicio 4 - PCA + KMeans\n",
    "\n",
    "**Dataset**: MNIST\n",
    "\n",
    "Con las implementaciones de sklearn, tomar las componentes principales que capturen el 90% de la varianza y aplicar kmeans para agrupar los dígitos en 10 clusters. Analizar los resultados. "
   ]
  },
  {
   "cell_type": "code",
   "execution_count": null,
   "id": "69e7f8cc",
   "metadata": {},
   "outputs": [],
   "source": []
  }
 ],
 "metadata": {
  "interpreter": {
   "hash": "c28c3cf458679f9b83f61209d65f8a8f2d99f99372cb71f1948565dfdc4b7b2a"
  },
  "kernelspec": {
   "display_name": "Python 3.8.13 ('FIUBA001')",
   "language": "python",
   "name": "python3"
  },
  "language_info": {
   "codemirror_mode": {
    "name": "ipython",
    "version": 3
   },
   "file_extension": ".py",
   "mimetype": "text/x-python",
   "name": "python",
   "nbconvert_exporter": "python",
   "pygments_lexer": "ipython3",
   "version": "3.8.13"
  }
 },
 "nbformat": 4,
 "nbformat_minor": 5
}

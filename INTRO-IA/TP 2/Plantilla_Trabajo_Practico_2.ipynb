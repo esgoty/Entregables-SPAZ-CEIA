{
 "cells": [
  {
   "cell_type": "markdown",
   "id": "27719223",
   "metadata": {},
   "source": [
    "\n",
    "# Trabajo Práctico 2"
   ]
  },
  {
   "cell_type": "markdown",
   "id": "461d011d",
   "metadata": {},
   "source": [
    "\n",
    "Descargar el dataset **Facebook comment volume** https://archive.ics.uci.edu/ml/datasets/Facebook+Comment+Volume+Dataset. \n",
    "\n",
    "El dataset tiene diferentes versiones, utilizaremos la **número 5** para train y para test **Features_TestSet**. \n",
    "\n",
    "Notar que trae **carpeta de train y de test**. \n",
    "\n",
    "Una descripcióm completa del dataset pueden encontrarla en el link. Se trata de publicaciones de Facebook y se quiere **predecir la columna 54: cantidad de comentarios en las próximas H horas\"**.\n",
    "\n",
    "El dataset contiene variables en muchos formatos diferentes, algunos de los cuales no hemos trabajado o no lo hemos hechos en profundidad. Esas variables pueden ser descartadas o bien hacer una investigación personal para ver de qué manera poder incluirlas para mejorar los resultados obtenidos.\n",
    "\n"
   ]
  },
  {
   "cell_type": "markdown",
   "id": "4c06b747",
   "metadata": {},
   "source": [
    "# LIMITACION DE SCOPE\n",
    "Para este trabajo solo voy a usar el set de VAR1 de training.\n",
    " "
   ]
  },
  {
   "cell_type": "markdown",
   "id": "5a976dd3",
   "metadata": {},
   "source": [
    "# Importar librerías\n",
    "\n",
    "Importar aquellas librerías que serán utilizadas en el trabajo."
   ]
  },
  {
   "cell_type": "code",
   "execution_count": 191,
   "id": "845b6c50",
   "metadata": {},
   "outputs": [],
   "source": [
    "import pandas as pd\n",
    "from sklearn import * \n",
    "import numpy as np\n",
    "\n",
    "\n",
    "%matplotlib inline\n",
    "from matplotlib import pyplot as plt\n",
    "plt.rcParams['figure.figsize'] = (12, 9)\n",
    "plt.rcParams['font.family'] = 'DejaVu Sans'\n"
   ]
  },
  {
   "cell_type": "markdown",
   "id": "954111ce",
   "metadata": {},
   "source": [
    "# Cargar datos\n",
    "Cargar los datos de entrenamiento."
   ]
  },
  {
   "cell_type": "code",
   "execution_count": 192,
   "id": "26f41c45",
   "metadata": {},
   "outputs": [],
   "source": [
    "# Originalmente, el set de training deberia tener 40998\n",
    "X_var5 = pd.read_csv(\"Dataset/Training/Features_Variant_5.csv\")\n",
    "\n",
    "# Labeling de features\n",
    "X_var5.columns = ['Page Popularity/likes', 'Page Checkins', 'Page talking about ', 'Page Category ', 'Essential DRV','Essential DRV','Essential DRV','Essential DRV','Essential DRV','Essential DRV','Essential DRV','Essential DRV','Essential DRV','Essential DRV','Essential DRV','Essential DRV','Essential DRV','Essential DRV','Essential DRV','Essential DRV','Essential DRV','Essential DRV','Essential DRV','Essential DRV','Essential DRV','Essential DRV','Essential DRV','Essential DRV','Essential DRV', 'CMNTS C1','CMNTS C2','CMNTS C3','CMNTS C4','CMNTS C5','BASE TIME', 'Post length', 'Post Share Count','Post Promotion Status ',' H after BDT for target','PUBlished Weekdays (bin)','PUBlished Weekdays (bin)','PUBlished Weekdays (bin)','PUBlished Weekdays (bin)','PUBlished Weekdays (bin)','PUBlished Weekdays (bin)','PUBlished Weekdays (bin)','BDT weekday (bin)','BDT weekday (bin)','BDT weekday (bin)','BDT weekday (bin)','BDT weekday (bin)','BDT weekday (bin)','BDT weekday (bin)','TARGET VALUE IN NEXT H HOURS']\n"
   ]
  },
  {
   "cell_type": "code",
   "execution_count": 193,
   "id": "d2eecaf9",
   "metadata": {},
   "outputs": [],
   "source": [
    "# set de testing completo, medio raro que tenga menos que 10120 tho. \n",
    "Y_test_set = pd.read_csv(\"Dataset/Testing/Features_TestSet.csv\")\n",
    "\n",
    "# Labeling de features\n",
    "Y_test_set.columns = ['Page Popularity/likes', 'Page Checkins', 'Page talking about ', 'Page Category ', 'Essential DRV','Essential DRV','Essential DRV','Essential DRV','Essential DRV','Essential DRV','Essential DRV','Essential DRV','Essential DRV','Essential DRV','Essential DRV','Essential DRV','Essential DRV','Essential DRV','Essential DRV','Essential DRV','Essential DRV','Essential DRV','Essential DRV','Essential DRV','Essential DRV','Essential DRV','Essential DRV','Essential DRV','Essential DRV', 'CMNTS C1','CMNTS C2','CMNTS C3','CMNTS C4','CMNTS C5','BASE TIME', 'Post length', 'Post Share Count','Post Promotion Status ',' H after BDT for target','PUBlished Weekdays (bin)','PUBlished Weekdays (bin)','PUBlished Weekdays (bin)','PUBlished Weekdays (bin)','PUBlished Weekdays (bin)','PUBlished Weekdays (bin)','PUBlished Weekdays (bin)','BDT weekday (bin)','BDT weekday (bin)','BDT weekday (bin)','BDT weekday (bin)','BDT weekday (bin)','BDT weekday (bin)','BDT weekday (bin)','TARGET VALUE IN NEXT H HOURS']\n",
    "\n"
   ]
  },
  {
   "cell_type": "markdown",
   "id": "c93000bd",
   "metadata": {},
   "source": [
    "# Análisis exploratorio básico y preprocesamiento de los datos\n",
    "\n",
    "Análisis de los datos para conocer los mismos, ver datos faltantes, decidir cómo tratarlos, ver distribuciones, relaciones, etc. Procesar los datos centrándolos, reescalando, codificando, reduciendo dimensiones, etc. según considere necesario. "
   ]
  },
  {
   "cell_type": "markdown",
   "id": "542294ce",
   "metadata": {},
   "source": [
    "### Feature engineering TRAIN"
   ]
  },
  {
   "cell_type": "code",
   "execution_count": 194,
   "id": "b66211cd",
   "metadata": {},
   "outputs": [
    {
     "name": "stdout",
     "output_type": "stream",
     "text": [
      "(199029, 54)\n",
      "No hay NANS\n"
     ]
    },
    {
     "data": {
      "text/plain": [
       "(199029, 37)"
      ]
     },
     "execution_count": 194,
     "metadata": {},
     "output_type": "execute_result"
    }
   ],
   "source": [
    "print(X_var5.shape)\n",
    "if X_var5.isnull().values.any() == 0:\n",
    "    print(\"No hay NANS\")\n",
    "else:\n",
    "    print(\"si hay NANS\")\n",
    "\n",
    "# Veo un head del original\n",
    "X_var5.shape\n",
    "\n",
    "# Por el alto estudio que hice del data set considero que estas features no me van a servir para mi basico analisis\n",
    "\n",
    "#35 Base time: solo me dice donde puso el cut-off para obtener las variantes\n",
    "#39 H local: solo me dice el tiempo luego del cut-off en el que medi el target.\n",
    "#40-46 Valor binario Weekday\n",
    "#47-53 Valor binario cut-off realted weekday\n",
    "#4 Categoria de la pagina de donde salio el post. \n",
    "X_var5= X_var5.drop(columns=['PUBlished Weekdays (bin)','BDT weekday (bin)',' H after BDT for target','BASE TIME','Page Category '])\n",
    "X_var5.shape"
   ]
  },
  {
   "cell_type": "code",
   "execution_count": 195,
   "id": "566567b5",
   "metadata": {},
   "outputs": [
    {
     "data": {
      "text/html": [
       "<div>\n",
       "<style scoped>\n",
       "    .dataframe tbody tr th:only-of-type {\n",
       "        vertical-align: middle;\n",
       "    }\n",
       "\n",
       "    .dataframe tbody tr th {\n",
       "        vertical-align: top;\n",
       "    }\n",
       "\n",
       "    .dataframe thead th {\n",
       "        text-align: right;\n",
       "    }\n",
       "</style>\n",
       "<table border=\"1\" class=\"dataframe\">\n",
       "  <thead>\n",
       "    <tr style=\"text-align: right;\">\n",
       "      <th></th>\n",
       "      <th>Page Popularity/likes</th>\n",
       "      <th>Page Checkins</th>\n",
       "      <th>Page talking about</th>\n",
       "      <th>Essential DRV</th>\n",
       "      <th>Essential DRV</th>\n",
       "      <th>Essential DRV</th>\n",
       "      <th>Essential DRV</th>\n",
       "      <th>Essential DRV</th>\n",
       "      <th>Essential DRV</th>\n",
       "      <th>Essential DRV</th>\n",
       "      <th>...</th>\n",
       "      <th>Essential DRV</th>\n",
       "      <th>CMNTS C1</th>\n",
       "      <th>CMNTS C2</th>\n",
       "      <th>CMNTS C3</th>\n",
       "      <th>CMNTS C4</th>\n",
       "      <th>CMNTS C5</th>\n",
       "      <th>Post length</th>\n",
       "      <th>Post Share Count</th>\n",
       "      <th>Post Promotion Status</th>\n",
       "      <th>TARGET VALUE IN NEXT H HOURS</th>\n",
       "    </tr>\n",
       "  </thead>\n",
       "  <tbody>\n",
       "    <tr>\n",
       "      <th>0</th>\n",
       "      <td>634995</td>\n",
       "      <td>0</td>\n",
       "      <td>463</td>\n",
       "      <td>0.0</td>\n",
       "      <td>1280.0</td>\n",
       "      <td>13.158779</td>\n",
       "      <td>1.0</td>\n",
       "      <td>94.99364</td>\n",
       "      <td>0.0</td>\n",
       "      <td>806.0</td>\n",
       "      <td>...</td>\n",
       "      <td>41.77087</td>\n",
       "      <td>0</td>\n",
       "      <td>0</td>\n",
       "      <td>0</td>\n",
       "      <td>0</td>\n",
       "      <td>0</td>\n",
       "      <td>132</td>\n",
       "      <td>1</td>\n",
       "      <td>0</td>\n",
       "      <td>0</td>\n",
       "    </tr>\n",
       "    <tr>\n",
       "      <th>1</th>\n",
       "      <td>634995</td>\n",
       "      <td>0</td>\n",
       "      <td>463</td>\n",
       "      <td>0.0</td>\n",
       "      <td>1280.0</td>\n",
       "      <td>13.158779</td>\n",
       "      <td>1.0</td>\n",
       "      <td>94.99364</td>\n",
       "      <td>0.0</td>\n",
       "      <td>806.0</td>\n",
       "      <td>...</td>\n",
       "      <td>41.77087</td>\n",
       "      <td>0</td>\n",
       "      <td>0</td>\n",
       "      <td>0</td>\n",
       "      <td>0</td>\n",
       "      <td>0</td>\n",
       "      <td>133</td>\n",
       "      <td>2</td>\n",
       "      <td>0</td>\n",
       "      <td>0</td>\n",
       "    </tr>\n",
       "    <tr>\n",
       "      <th>2</th>\n",
       "      <td>634995</td>\n",
       "      <td>0</td>\n",
       "      <td>463</td>\n",
       "      <td>0.0</td>\n",
       "      <td>1280.0</td>\n",
       "      <td>13.158779</td>\n",
       "      <td>1.0</td>\n",
       "      <td>94.99364</td>\n",
       "      <td>0.0</td>\n",
       "      <td>806.0</td>\n",
       "      <td>...</td>\n",
       "      <td>41.77087</td>\n",
       "      <td>7</td>\n",
       "      <td>0</td>\n",
       "      <td>0</td>\n",
       "      <td>7</td>\n",
       "      <td>0</td>\n",
       "      <td>131</td>\n",
       "      <td>1</td>\n",
       "      <td>0</td>\n",
       "      <td>0</td>\n",
       "    </tr>\n",
       "    <tr>\n",
       "      <th>3</th>\n",
       "      <td>634995</td>\n",
       "      <td>0</td>\n",
       "      <td>463</td>\n",
       "      <td>0.0</td>\n",
       "      <td>1280.0</td>\n",
       "      <td>13.158779</td>\n",
       "      <td>1.0</td>\n",
       "      <td>94.99364</td>\n",
       "      <td>0.0</td>\n",
       "      <td>806.0</td>\n",
       "      <td>...</td>\n",
       "      <td>41.77087</td>\n",
       "      <td>1</td>\n",
       "      <td>0</td>\n",
       "      <td>0</td>\n",
       "      <td>1</td>\n",
       "      <td>0</td>\n",
       "      <td>142</td>\n",
       "      <td>5</td>\n",
       "      <td>0</td>\n",
       "      <td>0</td>\n",
       "    </tr>\n",
       "    <tr>\n",
       "      <th>4</th>\n",
       "      <td>634995</td>\n",
       "      <td>0</td>\n",
       "      <td>463</td>\n",
       "      <td>0.0</td>\n",
       "      <td>1280.0</td>\n",
       "      <td>13.158779</td>\n",
       "      <td>1.0</td>\n",
       "      <td>94.99364</td>\n",
       "      <td>0.0</td>\n",
       "      <td>806.0</td>\n",
       "      <td>...</td>\n",
       "      <td>41.77087</td>\n",
       "      <td>0</td>\n",
       "      <td>0</td>\n",
       "      <td>0</td>\n",
       "      <td>0</td>\n",
       "      <td>0</td>\n",
       "      <td>166</td>\n",
       "      <td>1</td>\n",
       "      <td>0</td>\n",
       "      <td>0</td>\n",
       "    </tr>\n",
       "  </tbody>\n",
       "</table>\n",
       "<p>5 rows × 37 columns</p>\n",
       "</div>"
      ],
      "text/plain": [
       "   Page Popularity/likes  Page Checkins  Page talking about   Essential DRV  \\\n",
       "0                 634995              0                  463            0.0   \n",
       "1                 634995              0                  463            0.0   \n",
       "2                 634995              0                  463            0.0   \n",
       "3                 634995              0                  463            0.0   \n",
       "4                 634995              0                  463            0.0   \n",
       "\n",
       "   Essential DRV  Essential DRV  Essential DRV  Essential DRV  Essential DRV  \\\n",
       "0         1280.0      13.158779            1.0       94.99364            0.0   \n",
       "1         1280.0      13.158779            1.0       94.99364            0.0   \n",
       "2         1280.0      13.158779            1.0       94.99364            0.0   \n",
       "3         1280.0      13.158779            1.0       94.99364            0.0   \n",
       "4         1280.0      13.158779            1.0       94.99364            0.0   \n",
       "\n",
       "   Essential DRV  ...  Essential DRV  CMNTS C1  CMNTS C2  CMNTS C3  CMNTS C4  \\\n",
       "0          806.0  ...       41.77087         0         0         0         0   \n",
       "1          806.0  ...       41.77087         0         0         0         0   \n",
       "2          806.0  ...       41.77087         7         0         0         7   \n",
       "3          806.0  ...       41.77087         1         0         0         1   \n",
       "4          806.0  ...       41.77087         0         0         0         0   \n",
       "\n",
       "   CMNTS C5  Post length  Post Share Count  Post Promotion Status   \\\n",
       "0         0          132                 1                       0   \n",
       "1         0          133                 2                       0   \n",
       "2         0          131                 1                       0   \n",
       "3         0          142                 5                       0   \n",
       "4         0          166                 1                       0   \n",
       "\n",
       "   TARGET VALUE IN NEXT H HOURS  \n",
       "0                             0  \n",
       "1                             0  \n",
       "2                             0  \n",
       "3                             0  \n",
       "4                             0  \n",
       "\n",
       "[5 rows x 37 columns]"
      ]
     },
     "execution_count": 195,
     "metadata": {},
     "output_type": "execute_result"
    }
   ],
   "source": [
    "X_var5.head()"
   ]
  },
  {
   "cell_type": "code",
   "execution_count": 196,
   "metadata": {},
   "outputs": [
    {
     "data": {
      "text/html": [
       "<div>\n",
       "<style scoped>\n",
       "    .dataframe tbody tr th:only-of-type {\n",
       "        vertical-align: middle;\n",
       "    }\n",
       "\n",
       "    .dataframe tbody tr th {\n",
       "        vertical-align: top;\n",
       "    }\n",
       "\n",
       "    .dataframe thead th {\n",
       "        text-align: right;\n",
       "    }\n",
       "</style>\n",
       "<table border=\"1\" class=\"dataframe\">\n",
       "  <thead>\n",
       "    <tr style=\"text-align: right;\">\n",
       "      <th></th>\n",
       "      <th>TARGET VALUE IN NEXT H HOURS</th>\n",
       "    </tr>\n",
       "  </thead>\n",
       "  <tbody>\n",
       "    <tr>\n",
       "      <th>0</th>\n",
       "      <td>0</td>\n",
       "    </tr>\n",
       "    <tr>\n",
       "      <th>1</th>\n",
       "      <td>0</td>\n",
       "    </tr>\n",
       "    <tr>\n",
       "      <th>2</th>\n",
       "      <td>0</td>\n",
       "    </tr>\n",
       "    <tr>\n",
       "      <th>3</th>\n",
       "      <td>0</td>\n",
       "    </tr>\n",
       "    <tr>\n",
       "      <th>4</th>\n",
       "      <td>0</td>\n",
       "    </tr>\n",
       "  </tbody>\n",
       "</table>\n",
       "</div>"
      ],
      "text/plain": [
       "   TARGET VALUE IN NEXT H HOURS\n",
       "0                             0\n",
       "1                             0\n",
       "2                             0\n",
       "3                             0\n",
       "4                             0"
      ]
     },
     "execution_count": 196,
     "metadata": {},
     "output_type": "execute_result"
    }
   ],
   "source": [
    "X_var5_target = X_var5[['TARGET VALUE IN NEXT H HOURS']].copy()\n",
    "X_var5_target.shape\n",
    "X_var5_target.head(5)"
   ]
  },
  {
   "cell_type": "code",
   "execution_count": 197,
   "id": "4a5b2e3b",
   "metadata": {},
   "outputs": [
    {
     "data": {
      "text/plain": [
       "(199029, 36)"
      ]
     },
     "execution_count": 197,
     "metadata": {},
     "output_type": "execute_result"
    }
   ],
   "source": [
    "X_var5= X_var5.drop(columns=['TARGET VALUE IN NEXT H HOURS'])\n",
    "X_var5.shape"
   ]
  },
  {
   "cell_type": "code",
   "execution_count": 198,
   "id": "96ff85e4",
   "metadata": {},
   "outputs": [
    {
     "data": {
      "text/plain": [
       "(199029, 36)"
      ]
     },
     "execution_count": 198,
     "metadata": {},
     "output_type": "execute_result"
    }
   ],
   "source": [
    "# en primera instancia estandarizo\n",
    "scaler_train = preprocessing.StandardScaler().fit(X_var5)\n",
    "X_var5_std= scaler_train.transform(X_var5)  \n",
    "X_var5_std.shape  #me lo paso a un Numpy array\n"
   ]
  },
  {
   "cell_type": "markdown",
   "id": "bbddd198",
   "metadata": {},
   "source": [
    "### Exploracion datos Testing - Forma y consitencia"
   ]
  },
  {
   "cell_type": "code",
   "execution_count": 199,
   "id": "14e93c1b",
   "metadata": {},
   "outputs": [
    {
     "name": "stdout",
     "output_type": "stream",
     "text": [
      "(10043, 54)\n",
      "No hay NANS\n"
     ]
    },
    {
     "data": {
      "text/plain": [
       "(10043, 36)"
      ]
     },
     "execution_count": 199,
     "metadata": {},
     "output_type": "execute_result"
    }
   ],
   "source": [
    "print(Y_test_set.shape)\n",
    "\n",
    "if Y_test_set.isnull().values.any() == 0:\n",
    "    print(\"No hay NANS\")\n",
    "else:\n",
    "    print(\"si hay NANS\")\n",
    "\n",
    "# Veo un head\n",
    "Y_test_set.head(2)\n",
    "\n",
    "Y_test_set= Y_test_set.drop(columns=['PUBlished Weekdays (bin)','BDT weekday (bin)',' H after BDT for target','BASE TIME','Page Category '])\n",
    "Y_test_set.shape\n",
    "\n",
    "\n",
    "Y_test_set_target = Y_test_set[['TARGET VALUE IN NEXT H HOURS']].copy()\n",
    "Y_test_set_target.shape\n",
    "Y_test_set_target.head(5)\n",
    "\n",
    "Y_test_set= Y_test_set.drop(columns=['TARGET VALUE IN NEXT H HOURS'])\n",
    "Y_test_set.shape\n"
   ]
  },
  {
   "cell_type": "code",
   "execution_count": 200,
   "id": "1db29831",
   "metadata": {},
   "outputs": [
    {
     "data": {
      "image/png": "[encoded data removed]",
      "text/plain": [
       "<Figure size 720x504 with 1 Axes>"
      ]
     },
     "metadata": {
      "needs_background": "light"
     },
     "output_type": "display_data"
    },
    {
     "data": {
      "text/plain": [
       "(199029, 11)"
      ]
     },
     "execution_count": 200,
     "metadata": {},
     "output_type": "execute_result"
    }
   ],
   "source": [
    "# Elimino componentes de poca varianza en set de train .\n",
    "\n",
    "pca = PCA(n_components=0.95, random_state=8).fit(X_var5_std)\n",
    "\n",
    "plt.figure(figsize=(10,7))\n",
    "plt.plot(np.cumsum(pca_2.explained_variance_ratio_), color='k', lw=2)\n",
    "plt.xlabel('Cantidad de componentes')\n",
    "plt.ylabel('Total varianza contemplada')\n",
    "plt.xlim(0, 36)\n",
    "plt.yticks(np.arange(0, 1.1, 0.1))\n",
    "plt.axvline(63, c='b')\n",
    "plt.axhline(0.95, c='r')\n",
    "plt.show();\n",
    "\n",
    "X_var5_pca = pca.transform(X_var5_std)\n",
    "X_var5_pca.shape\n",
    "\n"
   ]
  },
  {
   "cell_type": "code",
   "execution_count": 201,
   "id": "c6ed9eca",
   "metadata": {},
   "outputs": [],
   "source": [
    "# Me quede con 11 componentes no mas que explican el 95 porciento de la variance\n",
    "#Sobre esas voy a entrenar el modelo.\n",
    "\n",
    "# hacer pearsons para sacar variables de train correlacionadas! "
   ]
  },
  {
   "cell_type": "markdown",
   "id": "13e49832",
   "metadata": {},
   "source": [
    "# Modelos y evaluación\n",
    "Probar diferentes modelos para predecir la variable objetivo. Calcular las métricas que considere relevantes. Comentar los resultados. "
   ]
  },
  {
   "cell_type": "code",
   "execution_count": 206,
   "id": "529db73e",
   "metadata": {},
   "outputs": [
    {
     "name": "stdout",
     "output_type": "stream",
     "text": [
      "[[ 2.94448165  1.94794336  2.27448292 -6.48749938 -6.63750074  3.68959136\n",
      "   2.50053551  0.16145149  0.41901543 -0.26376865  0.38014591]]\n",
      "0.0\n"
     ]
    }
   ],
   "source": [
    "lr = linear_model.LinearRegression(fit_intercept=False) #caso general, que no obligue a pasar por la ordenada\n",
    "lr.fit(X_var5_pca,X_var5_target)\n",
    "print(lr.coef_)  #me da 11 ordenadas\n",
    "print(lr.intercept_)"
   ]
  },
  {
   "cell_type": "markdown",
   "metadata": {},
   "source": [
    "# APPENDIX 1 - Attribute Information\n",
    "\n",
    "1\n",
    "Page Popularity/likes\n",
    "Decimal Encoding\n",
    "Page feature\n",
    "Defines the popularity or support for the source of the document.\n",
    "\n",
    "\n",
    "2\n",
    "Page Checkinsâ€™s\n",
    "Decimal Encoding\n",
    "Page feature\n",
    "Describes how many individuals so far visited this place. This feature is only associated with the places eg:some institution, place, theater etc.\n",
    "\n",
    "\n",
    "3\n",
    "Page talking about\n",
    "Decimal Encoding\n",
    "Page feature\n",
    "Defines the daily interest of individuals towards source of the document/ Post. The people who actually come back to the page, after liking the page. This include activities such as comments, likes to a post, shares, etc by visitors to the page.\n",
    "\n",
    "\n",
    "4\n",
    "Page Category\n",
    "Value Encoding\n",
    "Page feature\n",
    "Defines the category of the source of the document eg: place, institution, brand etc.\n",
    "\n",
    "\n",
    "5 - 29\n",
    "Derived\n",
    "Decimal Encoding\n",
    "Derived feature\n",
    "These features are aggregated by page, by calculating min, max, average, median and standard deviation of essential features.\n",
    "\n",
    "\n",
    "30\n",
    "CC1\n",
    "Decimal Encoding\n",
    "Essential feature\n",
    "The total number of comments before selected base date/time.\n",
    "\n",
    "\n",
    "31\n",
    "CC2\n",
    "Decimal Encoding\n",
    "Essential feature\n",
    "The number of comments in last 24 hours, relative to base date/time.\n",
    "\n",
    "\n",
    "32\n",
    "CC3\n",
    "Decimal Encoding\n",
    "Essential feature\n",
    "The number of comments in last 48 to last 24 hours relative to base date/time.\n",
    "\n",
    "\n",
    "33\n",
    "CC4\n",
    "Decimal Encoding\n",
    "Essential feature\n",
    "The number of comments in the first 24 hours after the publication of post but before base date/time.\n",
    "\n",
    "\n",
    "34\n",
    "CC5\n",
    "Decimal Encoding\n",
    "Essential feature\n",
    "The difference between CC2 and CC3.\n",
    "\n",
    "\n",
    "35\n",
    "Base time\n",
    "Decimal(0-71) Encoding\n",
    "Other feature\n",
    "Selected time in order to simulate the scenario.\n",
    "\n",
    "\n",
    "36\n",
    "Post length\n",
    "Decimal Encoding\n",
    "Other feature\n",
    "Character count in the post.\n",
    "\n",
    "\n",
    "37\n",
    "Post Share Count\n",
    "ï¿¼ï¿¼Decimal Encoding\n",
    "Other feature\n",
    "This features counts the no of shares of the post, that how many peoples had shared this post on to their timeline.\n",
    "\n",
    "\n",
    "38\n",
    "Post Promotion Status\n",
    "ï¿¼ï¿¼Binary Encoding\n",
    "Other feature\n",
    "To reach more people with posts in News Feed, individual promote their post and this features tells that whether the post is promoted(1) or not(0).\n",
    "\n",
    "\n",
    "39\n",
    "H Local\n",
    "ï¿¼Decimal(0-23) Encoding\n",
    "Other feature\n",
    "This describes the H hrs, for which we have the target variable/ comments received.\n",
    "\n",
    "\n",
    "40-46\n",
    "Post published weekday\n",
    "Binary Encoding\n",
    "Weekdays feature\n",
    "This represents the day(Sunday...Saturday) on which the post was published.\n",
    "\n",
    "\n",
    "47-53\n",
    "Base DateTime weekday\n",
    "Binary Encoding\n",
    "Weekdays feature\n",
    "This represents the day(Sunday...Saturday) on selected base Date/Time.\n",
    "\n",
    "54\n",
    "Target Variable\n",
    "Decimal\n",
    "Target\n",
    "The no of comments in next H hrs(H is given in Feature no 39)."
   ]
  },
  {
   "cell_type": "markdown",
   "id": "38e284fa",
   "metadata": {},
   "source": [
    "# APPENDIX 2 - Notas sobre el dataset\n",
    "\n",
    "The task here is to estimate the comment count that a post is expected to receive in next few hours.\n",
    "La unidad basica es el post. \n",
    "\n",
    "Target value: Comentarios que recibe el post. \n",
    "NOTE: Given some posts that appeared in past, whose target values (comments received) are already known, we simulated the scenario.\n",
    "\n",
    "Los autores lo consideran un problema de regresion (porque se estima un valor numerico que es el comment count)\n",
    "\n",
    "\n",
    "### Respecto al tiempo. \n",
    "\n",
    "Base date/time. El autor establece una hora y una fecha como BD/T arbitrariamente. tanto para separar en test y train, como para hacer el split del dataset original. It is selected to simulate the scenario, as we already know what will happen after this. There is one more kind of time we used in this formulation: is the post published time, which comes before the selected base date/time.\n",
    "\n",
    "Luego el split de train y testing se hace en base al tiempo. Se selecciona arbitrariamente una fecha/hora y lo que esta antes es de train (el pasado), y lo que esta despues es de test(el futuro)\n",
    "\n",
    "Total posts: 51108. De los que quedan 80% en train (40998). y 20% en test (10120).\n",
    "\n",
    "\n",
    "\n",
    "### Features\n",
    "53 en total + el target value para cada **post** \n",
    "\n",
    "- 4 features meta de la pagina en donde esta el post. Page likes, Page Category, Page Checkin's, Page Talking About.\n",
    "\n",
    "- 5 esenciales primarias que representan cantidad de comentarios para distintos tiempos en relacion al base date/time.  La cantidad de comentarios se hace *para atras*, es decir una vez que defino el base date time, cuento para atras cuantos comentarios hubo. en distintos intervalos\n",
    "\n",
    "C1. Cantidad total de comentarios antes del basedatetime seleccionado. Se define 72hs no se porque. \n",
    "C2. cantidad de comentarios 24 hs antes del selected BDT."
   ]
  },
  {
   "cell_type": "markdown",
   "id": "368ad02f",
   "metadata": {},
   "source": [
    "# APPENDIX 3 - Backround estrucutra del data set. \n",
    "\n",
    "Para cada POST se definieron 53 features y 1 target value. Las features estan en columnas en los datasets originales. \n",
    "\n",
    "Luego para cada post del dataset original, le hace *\"variantes\"*.\n",
    "\n",
    "Var1: le saca una foto.\n",
    "\n",
    "Var2: le saca dos fotos en tiempos disitntos\n",
    "\n",
    "Var3: le saca 3 fotos en tiempos disitntos. \n",
    "\n",
    "Var4: le saca 4 fotos en tiempos disitntos. \n",
    "\n",
    "Var5: le saca 5 fotos en tiempos disitntos. \n",
    "\n",
    "Entonces asi multiplica el post original. como si fueran varios posts individuales, con disitntas metricas y target values. \n",
    "\n",
    "En este esquema, hay algunas variables que son medio bajon para tener en cuenta en el entrenamiento del modelo. \n",
    "- La variable target es la que se quiere predecir. Asi que el modelo de regresion no se puede entrenar con ella. \n",
    "- La variable de BDT, H, estan relacionadas con la Target. progbablemente sea mejor usarlas para obtener otras variables. para analisis de datos mas finos. \n",
    "OJO con esto! si supiese mas analisis de datos haria mas cosas con esto.  \n"
   ]
  }
 ],
 "metadata": {
  "kernelspec": {
   "display_name": "Python 3.8.13 ('FIUBA001')",
   "language": "python",
   "name": "python3"
  },
  "language_info": {
   "codemirror_mode": {
    "name": "ipython",
    "version": 3
   },
   "file_extension": ".py",
   "mimetype": "text/x-python",
   "name": "python",
   "nbconvert_exporter": "python",
   "pygments_lexer": "ipython3",
   "version": "3.8.13"
  },
  "vscode": {
   "interpreter": {
    "hash": "c28c3cf458679f9b83f61209d65f8a8f2d99f99372cb71f1948565dfdc4b7b2a"
   }
  }
 },
 "nbformat": 4,
 "nbformat_minor": 5
}

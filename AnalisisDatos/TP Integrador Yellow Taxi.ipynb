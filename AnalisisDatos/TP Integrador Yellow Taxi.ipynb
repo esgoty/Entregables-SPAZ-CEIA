{
 "cells": [
  {
   "cell_type": "code",
   "execution_count": 4,
   "metadata": {},
   "outputs": [],
   "source": [
    "# Module importing\n",
    "import pandas as pd\n",
    "\n",
    "#Dataset Path\n",
    "DATASET_PATH = \"./data\""
   ]
  },
  {
   "cell_type": "code",
   "execution_count": 7,
   "metadata": {},
   "outputs": [],
   "source": [
    "# Importing dataset\n",
    "\n",
    "df_feb= pd.read_parquet(DATASET_PATH+'/yellow_tripdata_2020-02.parquet', engine='pyarrow')\n",
    "df_aug= pd.read_parquet(DATASET_PATH+'/yellow_tripdata_2020-08.parquet', engine='pyarrow')\n",
    "df_nov= pd.read_parquet(DATASET_PATH+'/yellow_tripdata_2020-11.parquet', engine='pyarrow')"
   ]
  }
 ],
 "metadata": {
  "kernelspec": {
   "display_name": "Python 3.8.13 ('FIUBA001')",
   "language": "python",
   "name": "python3"
  },
  "language_info": {
   "codemirror_mode": {
    "name": "ipython",
    "version": 3
   },
   "file_extension": ".py",
   "mimetype": "text/x-python",
   "name": "python",
   "nbconvert_exporter": "python",
   "pygments_lexer": "ipython3",
   "version": "3.8.13"
  },
  "orig_nbformat": 4,
  "vscode": {
   "interpreter": {
    "hash": "c28c3cf458679f9b83f61209d65f8a8f2d99f99372cb71f1948565dfdc4b7b2a"
   }
  }
 },
 "nbformat": 4,
 "nbformat_minor": 2
}

{
 "cells": [
  {
   "cell_type": "code",
   "execution_count": 5,
   "metadata": {
    "pycharm": {
     "name": "#%%\n"
    }
   },
   "outputs": [],
   "source": [
    "# Module importing\n",
    "import pandas as pd\n",
    "\n",
    "#Dataset Path\n",
    "DATASET_PATH = \"./data/\""
   ]
  },
  {
   "cell_type": "code",
   "execution_count": 6,
   "metadata": {
    "pycharm": {
     "name": "#%%\n"
    }
   },
   "outputs": [],
   "source": [
    "# Importing dataset\n",
    "\n",
    "# NOTA: hay que hacer un pip install pyarrow para que funcione\n",
    "\n",
    "df_feb= pd.read_parquet(DATASET_PATH+'yellow_tripdata_2020-02.parquet', engine='pyarrow')\n",
    "df_aug= pd.read_parquet(DATASET_PATH+'yellow_tripdata_2020-08.parquet', engine='pyarrow')\n",
    "df_nov= pd.read_parquet(DATASET_PATH+'yellow_tripdata_2020-11.parquet', engine='pyarrow')"
   ]
  },
  {
   "cell_type": "markdown",
   "metadata": {
    "pycharm": {
     "name": "#%% md\n"
    }
   },
   "source": [
    "# 1- Analisis exploratorio inicial"
   ]
  },
  {
   "cell_type": "markdown",
   "metadata": {
    "pycharm": {
     "name": "#%% md\n"
    }
   },
   "source": [
    "## 1.1 - Dataset features and characteristics"
   ]
  },
  {
   "cell_type": "code",
   "execution_count": 7,
   "outputs": [
    {
     "data": {
      "text/plain": "   VendorID tpep_pickup_datetime tpep_dropoff_datetime  passenger_count  \\\n0         1  2020-02-01 00:17:35   2020-02-01 00:30:32              1.0   \n1         1  2020-02-01 00:32:47   2020-02-01 01:05:36              1.0   \n2         1  2020-02-01 00:31:44   2020-02-01 00:43:28              1.0   \n3         2  2020-02-01 00:07:35   2020-02-01 00:31:39              1.0   \n4         2  2020-02-01 00:51:43   2020-02-01 01:01:29              1.0   \n\n   trip_distance  RatecodeID store_and_fwd_flag  PULocationID  DOLocationID  \\\n0           2.60         1.0                  N           145             7   \n1           4.80         1.0                  N            45            61   \n2           3.20         1.0                  N           186           140   \n3           4.38         1.0                  N           144           140   \n4           2.28         1.0                  N           238           152   \n\n   payment_type  fare_amount  extra  mta_tax  tip_amount  tolls_amount  \\\n0             1         11.0    0.5      0.5        2.45           0.0   \n1             1         21.5    3.0      0.5        6.30           0.0   \n2             1         11.0    3.0      0.5        1.00           0.0   \n3             1         18.0    0.5      0.5        3.00           0.0   \n4             2          9.5    0.5      0.5        0.00           0.0   \n\n   improvement_surcharge  total_amount  congestion_surcharge airport_fee  \n0                    0.3         14.75                   0.0        None  \n1                    0.3         31.60                   2.5        None  \n2                    0.3         15.80                   2.5        None  \n3                    0.3         24.80                   2.5        None  \n4                    0.3         10.80                   0.0        None  ",
      "text/html": "<div>\n<style scoped>\n    .dataframe tbody tr th:only-of-type {\n        vertical-align: middle;\n    }\n\n    .dataframe tbody tr th {\n        vertical-align: top;\n    }\n\n    .dataframe thead th {\n        text-align: right;\n    }\n</style>\n<table border=\"1\" class=\"dataframe\">\n  <thead>\n    <tr style=\"text-align: right;\">\n      <th></th>\n      <th>VendorID</th>\n      <th>tpep_pickup_datetime</th>\n      <th>tpep_dropoff_datetime</th>\n      <th>passenger_count</th>\n      <th>trip_distance</th>\n      <th>RatecodeID</th>\n      <th>store_and_fwd_flag</th>\n      <th>PULocationID</th>\n      <th>DOLocationID</th>\n      <th>payment_type</th>\n      <th>fare_amount</th>\n      <th>extra</th>\n      <th>mta_tax</th>\n      <th>tip_amount</th>\n      <th>tolls_amount</th>\n      <th>improvement_surcharge</th>\n      <th>total_amount</th>\n      <th>congestion_surcharge</th>\n      <th>airport_fee</th>\n    </tr>\n  </thead>\n  <tbody>\n    <tr>\n      <th>0</th>\n      <td>1</td>\n      <td>2020-02-01 00:17:35</td>\n      <td>2020-02-01 00:30:32</td>\n      <td>1.0</td>\n      <td>2.60</td>\n      <td>1.0</td>\n      <td>N</td>\n      <td>145</td>\n      <td>7</td>\n      <td>1</td>\n      <td>11.0</td>\n      <td>0.5</td>\n      <td>0.5</td>\n      <td>2.45</td>\n      <td>0.0</td>\n      <td>0.3</td>\n      <td>14.75</td>\n      <td>0.0</td>\n      <td>None</td>\n    </tr>\n    <tr>\n      <th>1</th>\n      <td>1</td>\n      <td>2020-02-01 00:32:47</td>\n      <td>2020-02-01 01:05:36</td>\n      <td>1.0</td>\n      <td>4.80</td>\n      <td>1.0</td>\n      <td>N</td>\n      <td>45</td>\n      <td>61</td>\n      <td>1</td>\n      <td>21.5</td>\n      <td>3.0</td>\n      <td>0.5</td>\n      <td>6.30</td>\n      <td>0.0</td>\n      <td>0.3</td>\n      <td>31.60</td>\n      <td>2.5</td>\n      <td>None</td>\n    </tr>\n    <tr>\n      <th>2</th>\n      <td>1</td>\n      <td>2020-02-01 00:31:44</td>\n      <td>2020-02-01 00:43:28</td>\n      <td>1.0</td>\n      <td>3.20</td>\n      <td>1.0</td>\n      <td>N</td>\n      <td>186</td>\n      <td>140</td>\n      <td>1</td>\n      <td>11.0</td>\n      <td>3.0</td>\n      <td>0.5</td>\n      <td>1.00</td>\n      <td>0.0</td>\n      <td>0.3</td>\n      <td>15.80</td>\n      <td>2.5</td>\n      <td>None</td>\n    </tr>\n    <tr>\n      <th>3</th>\n      <td>2</td>\n      <td>2020-02-01 00:07:35</td>\n      <td>2020-02-01 00:31:39</td>\n      <td>1.0</td>\n      <td>4.38</td>\n      <td>1.0</td>\n      <td>N</td>\n      <td>144</td>\n      <td>140</td>\n      <td>1</td>\n      <td>18.0</td>\n      <td>0.5</td>\n      <td>0.5</td>\n      <td>3.00</td>\n      <td>0.0</td>\n      <td>0.3</td>\n      <td>24.80</td>\n      <td>2.5</td>\n      <td>None</td>\n    </tr>\n    <tr>\n      <th>4</th>\n      <td>2</td>\n      <td>2020-02-01 00:51:43</td>\n      <td>2020-02-01 01:01:29</td>\n      <td>1.0</td>\n      <td>2.28</td>\n      <td>1.0</td>\n      <td>N</td>\n      <td>238</td>\n      <td>152</td>\n      <td>2</td>\n      <td>9.5</td>\n      <td>0.5</td>\n      <td>0.5</td>\n      <td>0.00</td>\n      <td>0.0</td>\n      <td>0.3</td>\n      <td>10.80</td>\n      <td>0.0</td>\n      <td>None</td>\n    </tr>\n  </tbody>\n</table>\n</div>"
     },
     "execution_count": 7,
     "metadata": {},
     "output_type": "execute_result"
    }
   ],
   "source": [
    "df_feb.head()"
   ],
   "metadata": {
    "collapsed": false,
    "pycharm": {
     "name": "#%%\n"
    }
   }
  },
  {
   "cell_type": "code",
   "execution_count": 8,
   "outputs": [
    {
     "data": {
      "text/plain": "         VendorID tpep_pickup_datetime tpep_dropoff_datetime  passenger_count  \\\n6299362         2  2020-02-29 23:24:00   2020-02-29 23:55:00              NaN   \n6299363         6  2020-02-29 23:02:01   2020-02-29 23:02:25              NaN   \n6299364         2  2020-02-29 23:35:00   2020-02-29 23:58:00              NaN   \n6299365         2  2020-02-29 23:42:00   2020-03-01 00:11:00              NaN   \n6299366         6  2020-02-29 23:02:13   2020-03-01 00:03:24              NaN   \n\n         trip_distance  RatecodeID store_and_fwd_flag  PULocationID  \\\n6299362          10.59         NaN               None           225   \n6299363           5.88         NaN               None           265   \n6299364           4.46         NaN               None            45   \n6299365          15.73         NaN               None           235   \n6299366          11.34         NaN               None           265   \n\n         DOLocationID  payment_type  fare_amount  extra  mta_tax  tip_amount  \\\n6299362           205             0        48.85   2.75      0.5         0.0   \n6299363           226             0        26.65   2.33      0.5         0.0   \n6299364            80             0        24.70   2.75      0.5         0.0   \n6299365           197             0        53.03   2.75      0.5         0.0   \n6299366           116             0        37.62   3.29      0.5         0.0   \n\n         tolls_amount  improvement_surcharge  total_amount  \\\n6299362          0.00                    0.3         52.40   \n6299363          0.00                    0.3         32.28   \n6299364          0.00                    0.3         28.25   \n6299365          6.12                    0.3         62.70   \n6299366          0.00                    0.3         44.21   \n\n         congestion_surcharge airport_fee  \n6299362                   NaN        None  \n6299363                   NaN        None  \n6299364                   NaN        None  \n6299365                   NaN        None  \n6299366                   NaN        None  ",
      "text/html": "<div>\n<style scoped>\n    .dataframe tbody tr th:only-of-type {\n        vertical-align: middle;\n    }\n\n    .dataframe tbody tr th {\n        vertical-align: top;\n    }\n\n    .dataframe thead th {\n        text-align: right;\n    }\n</style>\n<table border=\"1\" class=\"dataframe\">\n  <thead>\n    <tr style=\"text-align: right;\">\n      <th></th>\n      <th>VendorID</th>\n      <th>tpep_pickup_datetime</th>\n      <th>tpep_dropoff_datetime</th>\n      <th>passenger_count</th>\n      <th>trip_distance</th>\n      <th>RatecodeID</th>\n      <th>store_and_fwd_flag</th>\n      <th>PULocationID</th>\n      <th>DOLocationID</th>\n      <th>payment_type</th>\n      <th>fare_amount</th>\n      <th>extra</th>\n      <th>mta_tax</th>\n      <th>tip_amount</th>\n      <th>tolls_amount</th>\n      <th>improvement_surcharge</th>\n      <th>total_amount</th>\n      <th>congestion_surcharge</th>\n      <th>airport_fee</th>\n    </tr>\n  </thead>\n  <tbody>\n    <tr>\n      <th>6299362</th>\n      <td>2</td>\n      <td>2020-02-29 23:24:00</td>\n      <td>2020-02-29 23:55:00</td>\n      <td>NaN</td>\n      <td>10.59</td>\n      <td>NaN</td>\n      <td>None</td>\n      <td>225</td>\n      <td>205</td>\n      <td>0</td>\n      <td>48.85</td>\n      <td>2.75</td>\n      <td>0.5</td>\n      <td>0.0</td>\n      <td>0.00</td>\n      <td>0.3</td>\n      <td>52.40</td>\n      <td>NaN</td>\n      <td>None</td>\n    </tr>\n    <tr>\n      <th>6299363</th>\n      <td>6</td>\n      <td>2020-02-29 23:02:01</td>\n      <td>2020-02-29 23:02:25</td>\n      <td>NaN</td>\n      <td>5.88</td>\n      <td>NaN</td>\n      <td>None</td>\n      <td>265</td>\n      <td>226</td>\n      <td>0</td>\n      <td>26.65</td>\n      <td>2.33</td>\n      <td>0.5</td>\n      <td>0.0</td>\n      <td>0.00</td>\n      <td>0.3</td>\n      <td>32.28</td>\n      <td>NaN</td>\n      <td>None</td>\n    </tr>\n    <tr>\n      <th>6299364</th>\n      <td>2</td>\n      <td>2020-02-29 23:35:00</td>\n      <td>2020-02-29 23:58:00</td>\n      <td>NaN</td>\n      <td>4.46</td>\n      <td>NaN</td>\n      <td>None</td>\n      <td>45</td>\n      <td>80</td>\n      <td>0</td>\n      <td>24.70</td>\n      <td>2.75</td>\n      <td>0.5</td>\n      <td>0.0</td>\n      <td>0.00</td>\n      <td>0.3</td>\n      <td>28.25</td>\n      <td>NaN</td>\n      <td>None</td>\n    </tr>\n    <tr>\n      <th>6299365</th>\n      <td>2</td>\n      <td>2020-02-29 23:42:00</td>\n      <td>2020-03-01 00:11:00</td>\n      <td>NaN</td>\n      <td>15.73</td>\n      <td>NaN</td>\n      <td>None</td>\n      <td>235</td>\n      <td>197</td>\n      <td>0</td>\n      <td>53.03</td>\n      <td>2.75</td>\n      <td>0.5</td>\n      <td>0.0</td>\n      <td>6.12</td>\n      <td>0.3</td>\n      <td>62.70</td>\n      <td>NaN</td>\n      <td>None</td>\n    </tr>\n    <tr>\n      <th>6299366</th>\n      <td>6</td>\n      <td>2020-02-29 23:02:13</td>\n      <td>2020-03-01 00:03:24</td>\n      <td>NaN</td>\n      <td>11.34</td>\n      <td>NaN</td>\n      <td>None</td>\n      <td>265</td>\n      <td>116</td>\n      <td>0</td>\n      <td>37.62</td>\n      <td>3.29</td>\n      <td>0.5</td>\n      <td>0.0</td>\n      <td>0.00</td>\n      <td>0.3</td>\n      <td>44.21</td>\n      <td>NaN</td>\n      <td>None</td>\n    </tr>\n  </tbody>\n</table>\n</div>"
     },
     "execution_count": 8,
     "metadata": {},
     "output_type": "execute_result"
    }
   ],
   "source": [
    "df_feb.tail()"
   ],
   "metadata": {
    "collapsed": false,
    "pycharm": {
     "name": "#%%\n"
    }
   }
  },
  {
   "cell_type": "code",
   "execution_count": 9,
   "outputs": [
    {
     "data": {
      "text/plain": "VendorID                          int64\ntpep_pickup_datetime     datetime64[ns]\ntpep_dropoff_datetime    datetime64[ns]\npassenger_count                 float64\ntrip_distance                   float64\nRatecodeID                      float64\nstore_and_fwd_flag               object\nPULocationID                      int64\nDOLocationID                      int64\npayment_type                      int64\nfare_amount                     float64\nextra                           float64\nmta_tax                         float64\ntip_amount                      float64\ntolls_amount                    float64\nimprovement_surcharge           float64\ntotal_amount                    float64\ncongestion_surcharge            float64\nairport_fee                      object\ndtype: object"
     },
     "execution_count": 9,
     "metadata": {},
     "output_type": "execute_result"
    }
   ],
   "source": [
    "df_feb.dtypes"
   ],
   "metadata": {
    "collapsed": false,
    "pycharm": {
     "name": "#%%\n"
    }
   }
  },
  {
   "cell_type": "markdown",
   "source": [
    "## 1.2 Handling missing data"
   ],
   "metadata": {
    "collapsed": false,
    "pycharm": {
     "name": "#%% md\n"
    }
   }
  },
  {
   "cell_type": "code",
   "execution_count": 10,
   "outputs": [
    {
     "data": {
      "text/plain": "True"
     },
     "execution_count": 10,
     "metadata": {},
     "output_type": "execute_result"
    }
   ],
   "source": [
    "df_feb.isna().values.any()"
   ],
   "metadata": {
    "collapsed": false,
    "pycharm": {
     "name": "#%%\n"
    }
   }
  },
  {
   "cell_type": "code",
   "execution_count": 11,
   "outputs": [
    {
     "data": {
      "text/plain": "         VendorID  tpep_pickup_datetime  tpep_dropoff_datetime  \\\n0           False                 False                  False   \n1           False                 False                  False   \n2           False                 False                  False   \n3           False                 False                  False   \n4           False                 False                  False   \n...           ...                   ...                    ...   \n6299362     False                 False                  False   \n6299363     False                 False                  False   \n6299364     False                 False                  False   \n6299365     False                 False                  False   \n6299366     False                 False                  False   \n\n         passenger_count  trip_distance  RatecodeID  store_and_fwd_flag  \\\n0                  False          False       False               False   \n1                  False          False       False               False   \n2                  False          False       False               False   \n3                  False          False       False               False   \n4                  False          False       False               False   \n...                  ...            ...         ...                 ...   \n6299362             True          False        True                True   \n6299363             True          False        True                True   \n6299364             True          False        True                True   \n6299365             True          False        True                True   \n6299366             True          False        True                True   \n\n         PULocationID  DOLocationID  payment_type  fare_amount  extra  \\\n0               False         False         False        False  False   \n1               False         False         False        False  False   \n2               False         False         False        False  False   \n3               False         False         False        False  False   \n4               False         False         False        False  False   \n...               ...           ...           ...          ...    ...   \n6299362         False         False         False        False  False   \n6299363         False         False         False        False  False   \n6299364         False         False         False        False  False   \n6299365         False         False         False        False  False   \n6299366         False         False         False        False  False   \n\n         mta_tax  tip_amount  tolls_amount  improvement_surcharge  \\\n0          False       False         False                  False   \n1          False       False         False                  False   \n2          False       False         False                  False   \n3          False       False         False                  False   \n4          False       False         False                  False   \n...          ...         ...           ...                    ...   \n6299362    False       False         False                  False   \n6299363    False       False         False                  False   \n6299364    False       False         False                  False   \n6299365    False       False         False                  False   \n6299366    False       False         False                  False   \n\n         total_amount  congestion_surcharge  airport_fee  \n0               False                 False         True  \n1               False                 False         True  \n2               False                 False         True  \n3               False                 False         True  \n4               False                 False         True  \n...               ...                   ...          ...  \n6299362         False                  True         True  \n6299363         False                  True         True  \n6299364         False                  True         True  \n6299365         False                  True         True  \n6299366         False                  True         True  \n\n[6299367 rows x 19 columns]",
      "text/html": "<div>\n<style scoped>\n    .dataframe tbody tr th:only-of-type {\n        vertical-align: middle;\n    }\n\n    .dataframe tbody tr th {\n        vertical-align: top;\n    }\n\n    .dataframe thead th {\n        text-align: right;\n    }\n</style>\n<table border=\"1\" class=\"dataframe\">\n  <thead>\n    <tr style=\"text-align: right;\">\n      <th></th>\n      <th>VendorID</th>\n      <th>tpep_pickup_datetime</th>\n      <th>tpep_dropoff_datetime</th>\n      <th>passenger_count</th>\n      <th>trip_distance</th>\n      <th>RatecodeID</th>\n      <th>store_and_fwd_flag</th>\n      <th>PULocationID</th>\n      <th>DOLocationID</th>\n      <th>payment_type</th>\n      <th>fare_amount</th>\n      <th>extra</th>\n      <th>mta_tax</th>\n      <th>tip_amount</th>\n      <th>tolls_amount</th>\n      <th>improvement_surcharge</th>\n      <th>total_amount</th>\n      <th>congestion_surcharge</th>\n      <th>airport_fee</th>\n    </tr>\n  </thead>\n  <tbody>\n    <tr>\n      <th>0</th>\n      <td>False</td>\n      <td>False</td>\n      <td>False</td>\n      <td>False</td>\n      <td>False</td>\n      <td>False</td>\n      <td>False</td>\n      <td>False</td>\n      <td>False</td>\n      <td>False</td>\n      <td>False</td>\n      <td>False</td>\n      <td>False</td>\n      <td>False</td>\n      <td>False</td>\n      <td>False</td>\n      <td>False</td>\n      <td>False</td>\n      <td>True</td>\n    </tr>\n    <tr>\n      <th>1</th>\n      <td>False</td>\n      <td>False</td>\n      <td>False</td>\n      <td>False</td>\n      <td>False</td>\n      <td>False</td>\n      <td>False</td>\n      <td>False</td>\n      <td>False</td>\n      <td>False</td>\n      <td>False</td>\n      <td>False</td>\n      <td>False</td>\n      <td>False</td>\n      <td>False</td>\n      <td>False</td>\n      <td>False</td>\n      <td>False</td>\n      <td>True</td>\n    </tr>\n    <tr>\n      <th>2</th>\n      <td>False</td>\n      <td>False</td>\n      <td>False</td>\n      <td>False</td>\n      <td>False</td>\n      <td>False</td>\n      <td>False</td>\n      <td>False</td>\n      <td>False</td>\n      <td>False</td>\n      <td>False</td>\n      <td>False</td>\n      <td>False</td>\n      <td>False</td>\n      <td>False</td>\n      <td>False</td>\n      <td>False</td>\n      <td>False</td>\n      <td>True</td>\n    </tr>\n    <tr>\n      <th>3</th>\n      <td>False</td>\n      <td>False</td>\n      <td>False</td>\n      <td>False</td>\n      <td>False</td>\n      <td>False</td>\n      <td>False</td>\n      <td>False</td>\n      <td>False</td>\n      <td>False</td>\n      <td>False</td>\n      <td>False</td>\n      <td>False</td>\n      <td>False</td>\n      <td>False</td>\n      <td>False</td>\n      <td>False</td>\n      <td>False</td>\n      <td>True</td>\n    </tr>\n    <tr>\n      <th>4</th>\n      <td>False</td>\n      <td>False</td>\n      <td>False</td>\n      <td>False</td>\n      <td>False</td>\n      <td>False</td>\n      <td>False</td>\n      <td>False</td>\n      <td>False</td>\n      <td>False</td>\n      <td>False</td>\n      <td>False</td>\n      <td>False</td>\n      <td>False</td>\n      <td>False</td>\n      <td>False</td>\n      <td>False</td>\n      <td>False</td>\n      <td>True</td>\n    </tr>\n    <tr>\n      <th>...</th>\n      <td>...</td>\n      <td>...</td>\n      <td>...</td>\n      <td>...</td>\n      <td>...</td>\n      <td>...</td>\n      <td>...</td>\n      <td>...</td>\n      <td>...</td>\n      <td>...</td>\n      <td>...</td>\n      <td>...</td>\n      <td>...</td>\n      <td>...</td>\n      <td>...</td>\n      <td>...</td>\n      <td>...</td>\n      <td>...</td>\n      <td>...</td>\n    </tr>\n    <tr>\n      <th>6299362</th>\n      <td>False</td>\n      <td>False</td>\n      <td>False</td>\n      <td>True</td>\n      <td>False</td>\n      <td>True</td>\n      <td>True</td>\n      <td>False</td>\n      <td>False</td>\n      <td>False</td>\n      <td>False</td>\n      <td>False</td>\n      <td>False</td>\n      <td>False</td>\n      <td>False</td>\n      <td>False</td>\n      <td>False</td>\n      <td>True</td>\n      <td>True</td>\n    </tr>\n    <tr>\n      <th>6299363</th>\n      <td>False</td>\n      <td>False</td>\n      <td>False</td>\n      <td>True</td>\n      <td>False</td>\n      <td>True</td>\n      <td>True</td>\n      <td>False</td>\n      <td>False</td>\n      <td>False</td>\n      <td>False</td>\n      <td>False</td>\n      <td>False</td>\n      <td>False</td>\n      <td>False</td>\n      <td>False</td>\n      <td>False</td>\n      <td>True</td>\n      <td>True</td>\n    </tr>\n    <tr>\n      <th>6299364</th>\n      <td>False</td>\n      <td>False</td>\n      <td>False</td>\n      <td>True</td>\n      <td>False</td>\n      <td>True</td>\n      <td>True</td>\n      <td>False</td>\n      <td>False</td>\n      <td>False</td>\n      <td>False</td>\n      <td>False</td>\n      <td>False</td>\n      <td>False</td>\n      <td>False</td>\n      <td>False</td>\n      <td>False</td>\n      <td>True</td>\n      <td>True</td>\n    </tr>\n    <tr>\n      <th>6299365</th>\n      <td>False</td>\n      <td>False</td>\n      <td>False</td>\n      <td>True</td>\n      <td>False</td>\n      <td>True</td>\n      <td>True</td>\n      <td>False</td>\n      <td>False</td>\n      <td>False</td>\n      <td>False</td>\n      <td>False</td>\n      <td>False</td>\n      <td>False</td>\n      <td>False</td>\n      <td>False</td>\n      <td>False</td>\n      <td>True</td>\n      <td>True</td>\n    </tr>\n    <tr>\n      <th>6299366</th>\n      <td>False</td>\n      <td>False</td>\n      <td>False</td>\n      <td>True</td>\n      <td>False</td>\n      <td>True</td>\n      <td>True</td>\n      <td>False</td>\n      <td>False</td>\n      <td>False</td>\n      <td>False</td>\n      <td>False</td>\n      <td>False</td>\n      <td>False</td>\n      <td>False</td>\n      <td>False</td>\n      <td>False</td>\n      <td>True</td>\n      <td>True</td>\n    </tr>\n  </tbody>\n</table>\n<p>6299367 rows × 19 columns</p>\n</div>"
     },
     "execution_count": 11,
     "metadata": {},
     "output_type": "execute_result"
    }
   ],
   "source": [
    "pd.isna(df_feb)"
   ],
   "metadata": {
    "collapsed": false,
    "pycharm": {
     "name": "#%%\n"
    }
   }
  },
  {
   "cell_type": "markdown",
   "source": [
    "Analisis: tenemos missing values. de los siguientes tipos:\n",
    "- NaNs  ver tail congestion_surcharge\n",
    "- None  ver tail airport_fee"
   ],
   "metadata": {
    "collapsed": false,
    "pycharm": {
     "name": "#%% md\n"
    }
   }
  },
  {
   "cell_type": "code",
   "execution_count": 12,
   "outputs": [
    {
     "data": {
      "text/plain": "VendorID                       0\ntpep_pickup_datetime           0\ntpep_dropoff_datetime          0\npassenger_count            48834\ntrip_distance                  0\nRatecodeID                 48834\nstore_and_fwd_flag         48834\nPULocationID                   0\nDOLocationID                   0\npayment_type                   0\nfare_amount                    0\nextra                          0\nmta_tax                        0\ntip_amount                     0\ntolls_amount                   0\nimprovement_surcharge          0\ntotal_amount                   0\ncongestion_surcharge       48834\nairport_fee              6299367\ndtype: int64"
     },
     "execution_count": 12,
     "metadata": {},
     "output_type": "execute_result"
    }
   ],
   "source": [
    "df_feb.isnull().sum()"
   ],
   "metadata": {
    "collapsed": false,
    "pycharm": {
     "name": "#%%\n"
    }
   }
  },
  {
   "cell_type": "code",
   "execution_count": 13,
   "outputs": [
    {
     "data": {
      "text/plain": "VendorID                       4\ntpep_pickup_datetime     2027136\ntpep_dropoff_datetime    2031299\npassenger_count               10\ntrip_distance               4391\nRatecodeID                     7\nstore_and_fwd_flag             2\nPULocationID                 259\nDOLocationID                 261\npayment_type                   5\nfare_amount                 5137\nextra                        122\nmta_tax                       11\ntip_amount                  3680\ntolls_amount                 937\nimprovement_surcharge          3\ntotal_amount               12311\ncongestion_surcharge           7\nairport_fee                    0\ndtype: int64"
     },
     "execution_count": 13,
     "metadata": {},
     "output_type": "execute_result"
    }
   ],
   "source": [
    "df_feb.nunique()"
   ],
   "metadata": {
    "collapsed": false,
    "pycharm": {
     "name": "#%%\n"
    }
   }
  },
  {
   "cell_type": "markdown",
   "source": [
    "Categóricas. Datos con un número limitado de valores o categorías distintas (por ejemplo, género o religión). Las variables categóricas pueden ser variables de cadena (alfanuméricas) o variables numéricas que utilizan códigos numéricos para representar a categorías (por ejemplo, 0 = hombre y 1 = mujer). También se hace referencia a estos datos como datos cualitativos. Las variables categóricas pueden ser nominales u ordinales\n",
    "\n",
    "Nominal. Una variable puede tratarse como nominal cuando sus valores representan categorías sin clasificación intrínseca (por ejemplo, el departamento de la empresa en la que trabaja un empleado). Ejemplos de variables nominales incluyen la región, el código postal y la afiliación religiosa.\n",
    "Ordinal. Una variable puede ser tratada como ordinal cuando sus valores representan categorías con alguna clasificación intrínseca (por ejemplo, niveles de satisfacción de servicio de altamente insatisfecho a altamente satisfecho). Ejemplos de variables ordinales incluyen puntuaciones de actitud que representan grado de satisfacción o confianza y puntuaciones de calificación de preferencia."
   ],
   "metadata": {
    "collapsed": false,
    "pycharm": {
     "name": "#%% md\n"
    }
   }
  },
  {
   "cell_type": "markdown",
   "source": [
    "## 'VendorID' Categorica Ordinal 1-2\n",
    "'tpep_pickup_datetime'The date and time when the meter was engaged.\n",
    "'tpep_dropoff_datetime' The date and time when the meter was disengaged.\n",
    "'passenger_count'The number of passengers in the vehicle.\n",
    "'trip_distance' The elapsed trip distance in miles reported by the taximeter.\n",
    "## 'RatecodeID' Categorica Ordinal 1-6\n",
    "## 'store_and_fwd_flag'Categorica Ordinal Y-N\n",
    "'PULocationID', 'DOLocationID',TLC Taxi Zone in which the taximeter was engaged/engaged.\n",
    "## 'payment_type'Categorica Ordinal 1-6\n",
    "'fare_amount' The time-and-distance fare calculated by the meter.\n",
    "'extra' Miscellaneous extras and surcharges. Currently, this only includes\n",
    "the 0.50 and 1 rush hour and overnight charges.\n",
    "'mta_tax' 0.50 MTA tax that is automatically triggered based on the metered\n",
    "rate in use.\n",
    "'tip_amount' Tip amount – This field is automatically populated for credit card\n",
    "tips. Cash tips are not included.\n",
    "'tolls_amount' Total amount of all tolls paid in trip.\n",
    "'improvement_surcharge' 0.30 improvement surcharge assessed trips at the flag drop. The\n",
    "improvement surcharge began being levied in 2015.\n",
    "'total_amount' The total amount charged to passengers. Does not include cash tips.\n",
    "'congestion_surcharge' Total amount collected in trip for NYS congestion surcharge.\n",
    "'airport_fee' 1.25 for pick up only at LaGuardia and John F. Kennedy Airports."
   ],
   "metadata": {
    "collapsed": false,
    "pycharm": {
     "name": "#%% md\n"
    }
   }
  },
  {
   "cell_type": "markdown",
   "source": [
    "Variable de salida : total_amount, congestion_surcharge,fare_amount,tolls_amount\n",
    "Variables independientes:\n",
    "Variables categoricas: No hay categorias en las columnas(ej. meses, nombres propios, etc)"
   ],
   "metadata": {
    "collapsed": false,
    "pycharm": {
     "name": "#%% md\n"
    }
   }
  },
  {
   "cell_type": "code",
   "execution_count": 15,
   "outputs": [
    {
     "data": {
      "text/plain": "   VendorID tpep_pickup_datetime tpep_dropoff_datetime  passenger_count  \\\n0         2  2020-02-28 17:55:01            2020-02-23              1.0   \n\n   trip_distance  RatecodeID store_and_fwd_flag  PULocationID  DOLocationID  \\\n0            0.8         1.0                  N           161           236   \n\n   payment_type  fare_amount  extra  mta_tax  tip_amount  tolls_amount  \\\n0             1          6.0    0.0      0.5         0.0           0.0   \n\n   improvement_surcharge  total_amount  congestion_surcharge airport_fee  \n0                    0.3          10.3                   2.5         NaN  ",
      "text/html": "<div>\n<style scoped>\n    .dataframe tbody tr th:only-of-type {\n        vertical-align: middle;\n    }\n\n    .dataframe tbody tr th {\n        vertical-align: top;\n    }\n\n    .dataframe thead th {\n        text-align: right;\n    }\n</style>\n<table border=\"1\" class=\"dataframe\">\n  <thead>\n    <tr style=\"text-align: right;\">\n      <th></th>\n      <th>VendorID</th>\n      <th>tpep_pickup_datetime</th>\n      <th>tpep_dropoff_datetime</th>\n      <th>passenger_count</th>\n      <th>trip_distance</th>\n      <th>RatecodeID</th>\n      <th>store_and_fwd_flag</th>\n      <th>PULocationID</th>\n      <th>DOLocationID</th>\n      <th>payment_type</th>\n      <th>fare_amount</th>\n      <th>extra</th>\n      <th>mta_tax</th>\n      <th>tip_amount</th>\n      <th>tolls_amount</th>\n      <th>improvement_surcharge</th>\n      <th>total_amount</th>\n      <th>congestion_surcharge</th>\n      <th>airport_fee</th>\n    </tr>\n  </thead>\n  <tbody>\n    <tr>\n      <th>0</th>\n      <td>2</td>\n      <td>2020-02-28 17:55:01</td>\n      <td>2020-02-23</td>\n      <td>1.0</td>\n      <td>0.8</td>\n      <td>1.0</td>\n      <td>N</td>\n      <td>161</td>\n      <td>236</td>\n      <td>1</td>\n      <td>6.0</td>\n      <td>0.0</td>\n      <td>0.5</td>\n      <td>0.0</td>\n      <td>0.0</td>\n      <td>0.3</td>\n      <td>10.3</td>\n      <td>2.5</td>\n      <td>NaN</td>\n    </tr>\n  </tbody>\n</table>\n</div>"
     },
     "execution_count": 15,
     "metadata": {},
     "output_type": "execute_result"
    }
   ],
   "source": [
    "df_feb.mode()"
   ],
   "metadata": {
    "collapsed": false,
    "pycharm": {
     "name": "#%%\n"
    }
   }
  }
 ],
 "metadata": {
  "kernelspec": {
   "display_name": "Python 3.8.13 ('FIUBA001')",
   "language": "python",
   "name": "python3"
  },
  "language_info": {
   "codemirror_mode": {
    "name": "ipython",
    "version": 3
   },
   "file_extension": ".py",
   "mimetype": "text/x-python",
   "name": "python",
   "nbconvert_exporter": "python",
   "pygments_lexer": "ipython3",
   "version": "3.8.13"
  },
  "orig_nbformat": 4,
  "vscode": {
   "interpreter": {
    "hash": "c28c3cf458679f9b83f61209d65f8a8f2d99f99372cb71f1948565dfdc4b7b2a"
   }
  }
 },
 "nbformat": 4,
 "nbformat_minor": 2
}
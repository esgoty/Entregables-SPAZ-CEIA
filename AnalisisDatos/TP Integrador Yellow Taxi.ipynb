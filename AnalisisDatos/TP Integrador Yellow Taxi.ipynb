{
 "cells": [
  {
   "cell_type": "code",
   "execution_count": 2,
   "metadata": {
    "pycharm": {
     "name": "#%%\n"
    }
   },
   "outputs": [],
   "source": [
    "# Module importing\n",
    "import pandas as pd\n",
    "\n",
    "#Dataset Path\n",
    "DATASET_PATH = \"./data/\""
   ]
  },
  {
   "cell_type": "code",
   "execution_count": 3,
   "metadata": {
    "pycharm": {
     "name": "#%%\n"
    }
   },
   "outputs": [],
   "source": [
    "# Importing dataset\n",
    "\n",
    "# NOTA: hay que hacer un pip install pyarrow para que funcione\n",
    "\n",
    "df_feb= pd.read_parquet(DATASET_PATH+'yellow_tripdata_2020-02.parquet', engine='pyarrow')\n",
    "df_aug= pd.read_parquet(DATASET_PATH+'yellow_tripdata_2020-08.parquet', engine='pyarrow')\n",
    "df_nov= pd.read_parquet(DATASET_PATH+'yellow_tripdata_2020-11.parquet', engine='pyarrow')"
   ]
  },
  {
   "cell_type": "markdown",
   "metadata": {
    "pycharm": {
     "name": "#%% md\n"
    }
   },
   "source": [
    "# 1- Analisis exploratorio inicial"
   ]
  },
  {
   "cell_type": "markdown",
   "metadata": {
    "pycharm": {
     "name": "#%% md\n"
    }
   },
   "source": [
    "## 1.1 - Dataset features and characteristics"
   ]
  },
  {
   "cell_type": "code",
   "execution_count": 7,
   "metadata": {
    "collapsed": false,
    "pycharm": {
     "name": "#%%\n"
    }
   },
   "outputs": [
    {
     "data": {
      "text/html": [
       "<div>\n",
       "<style scoped>\n",
       "    .dataframe tbody tr th:only-of-type {\n",
       "        vertical-align: middle;\n",
       "    }\n",
       "\n",
       "    .dataframe tbody tr th {\n",
       "        vertical-align: top;\n",
       "    }\n",
       "\n",
       "    .dataframe thead th {\n",
       "        text-align: right;\n",
       "    }\n",
       "</style>\n",
       "<table border=\"1\" class=\"dataframe\">\n",
       "  <thead>\n",
       "    <tr style=\"text-align: right;\">\n",
       "      <th></th>\n",
       "      <th>VendorID</th>\n",
       "      <th>tpep_pickup_datetime</th>\n",
       "      <th>tpep_dropoff_datetime</th>\n",
       "      <th>passenger_count</th>\n",
       "      <th>trip_distance</th>\n",
       "      <th>RatecodeID</th>\n",
       "      <th>store_and_fwd_flag</th>\n",
       "      <th>PULocationID</th>\n",
       "      <th>DOLocationID</th>\n",
       "      <th>payment_type</th>\n",
       "      <th>fare_amount</th>\n",
       "      <th>extra</th>\n",
       "      <th>mta_tax</th>\n",
       "      <th>tip_amount</th>\n",
       "      <th>tolls_amount</th>\n",
       "      <th>improvement_surcharge</th>\n",
       "      <th>total_amount</th>\n",
       "      <th>congestion_surcharge</th>\n",
       "      <th>airport_fee</th>\n",
       "    </tr>\n",
       "  </thead>\n",
       "  <tbody>\n",
       "    <tr>\n",
       "      <th>0</th>\n",
       "      <td>1</td>\n",
       "      <td>2020-02-01 00:17:35</td>\n",
       "      <td>2020-02-01 00:30:32</td>\n",
       "      <td>1.0</td>\n",
       "      <td>2.60</td>\n",
       "      <td>1.0</td>\n",
       "      <td>N</td>\n",
       "      <td>145</td>\n",
       "      <td>7</td>\n",
       "      <td>1</td>\n",
       "      <td>11.0</td>\n",
       "      <td>0.5</td>\n",
       "      <td>0.5</td>\n",
       "      <td>2.45</td>\n",
       "      <td>0.0</td>\n",
       "      <td>0.3</td>\n",
       "      <td>14.75</td>\n",
       "      <td>0.0</td>\n",
       "      <td>None</td>\n",
       "    </tr>\n",
       "    <tr>\n",
       "      <th>1</th>\n",
       "      <td>1</td>\n",
       "      <td>2020-02-01 00:32:47</td>\n",
       "      <td>2020-02-01 01:05:36</td>\n",
       "      <td>1.0</td>\n",
       "      <td>4.80</td>\n",
       "      <td>1.0</td>\n",
       "      <td>N</td>\n",
       "      <td>45</td>\n",
       "      <td>61</td>\n",
       "      <td>1</td>\n",
       "      <td>21.5</td>\n",
       "      <td>3.0</td>\n",
       "      <td>0.5</td>\n",
       "      <td>6.30</td>\n",
       "      <td>0.0</td>\n",
       "      <td>0.3</td>\n",
       "      <td>31.60</td>\n",
       "      <td>2.5</td>\n",
       "      <td>None</td>\n",
       "    </tr>\n",
       "    <tr>\n",
       "      <th>2</th>\n",
       "      <td>1</td>\n",
       "      <td>2020-02-01 00:31:44</td>\n",
       "      <td>2020-02-01 00:43:28</td>\n",
       "      <td>1.0</td>\n",
       "      <td>3.20</td>\n",
       "      <td>1.0</td>\n",
       "      <td>N</td>\n",
       "      <td>186</td>\n",
       "      <td>140</td>\n",
       "      <td>1</td>\n",
       "      <td>11.0</td>\n",
       "      <td>3.0</td>\n",
       "      <td>0.5</td>\n",
       "      <td>1.00</td>\n",
       "      <td>0.0</td>\n",
       "      <td>0.3</td>\n",
       "      <td>15.80</td>\n",
       "      <td>2.5</td>\n",
       "      <td>None</td>\n",
       "    </tr>\n",
       "    <tr>\n",
       "      <th>3</th>\n",
       "      <td>2</td>\n",
       "      <td>2020-02-01 00:07:35</td>\n",
       "      <td>2020-02-01 00:31:39</td>\n",
       "      <td>1.0</td>\n",
       "      <td>4.38</td>\n",
       "      <td>1.0</td>\n",
       "      <td>N</td>\n",
       "      <td>144</td>\n",
       "      <td>140</td>\n",
       "      <td>1</td>\n",
       "      <td>18.0</td>\n",
       "      <td>0.5</td>\n",
       "      <td>0.5</td>\n",
       "      <td>3.00</td>\n",
       "      <td>0.0</td>\n",
       "      <td>0.3</td>\n",
       "      <td>24.80</td>\n",
       "      <td>2.5</td>\n",
       "      <td>None</td>\n",
       "    </tr>\n",
       "    <tr>\n",
       "      <th>4</th>\n",
       "      <td>2</td>\n",
       "      <td>2020-02-01 00:51:43</td>\n",
       "      <td>2020-02-01 01:01:29</td>\n",
       "      <td>1.0</td>\n",
       "      <td>2.28</td>\n",
       "      <td>1.0</td>\n",
       "      <td>N</td>\n",
       "      <td>238</td>\n",
       "      <td>152</td>\n",
       "      <td>2</td>\n",
       "      <td>9.5</td>\n",
       "      <td>0.5</td>\n",
       "      <td>0.5</td>\n",
       "      <td>0.00</td>\n",
       "      <td>0.0</td>\n",
       "      <td>0.3</td>\n",
       "      <td>10.80</td>\n",
       "      <td>0.0</td>\n",
       "      <td>None</td>\n",
       "    </tr>\n",
       "  </tbody>\n",
       "</table>\n",
       "</div>"
      ],
      "text/plain": [
       "   VendorID tpep_pickup_datetime tpep_dropoff_datetime  passenger_count  \\\n",
       "0         1  2020-02-01 00:17:35   2020-02-01 00:30:32              1.0   \n",
       "1         1  2020-02-01 00:32:47   2020-02-01 01:05:36              1.0   \n",
       "2         1  2020-02-01 00:31:44   2020-02-01 00:43:28              1.0   \n",
       "3         2  2020-02-01 00:07:35   2020-02-01 00:31:39              1.0   \n",
       "4         2  2020-02-01 00:51:43   2020-02-01 01:01:29              1.0   \n",
       "\n",
       "   trip_distance  RatecodeID store_and_fwd_flag  PULocationID  DOLocationID  \\\n",
       "0           2.60         1.0                  N           145             7   \n",
       "1           4.80         1.0                  N            45            61   \n",
       "2           3.20         1.0                  N           186           140   \n",
       "3           4.38         1.0                  N           144           140   \n",
       "4           2.28         1.0                  N           238           152   \n",
       "\n",
       "   payment_type  fare_amount  extra  mta_tax  tip_amount  tolls_amount  \\\n",
       "0             1         11.0    0.5      0.5        2.45           0.0   \n",
       "1             1         21.5    3.0      0.5        6.30           0.0   \n",
       "2             1         11.0    3.0      0.5        1.00           0.0   \n",
       "3             1         18.0    0.5      0.5        3.00           0.0   \n",
       "4             2          9.5    0.5      0.5        0.00           0.0   \n",
       "\n",
       "   improvement_surcharge  total_amount  congestion_surcharge airport_fee  \n",
       "0                    0.3         14.75                   0.0        None  \n",
       "1                    0.3         31.60                   2.5        None  \n",
       "2                    0.3         15.80                   2.5        None  \n",
       "3                    0.3         24.80                   2.5        None  \n",
       "4                    0.3         10.80                   0.0        None  "
      ]
     },
     "execution_count": 7,
     "metadata": {},
     "output_type": "execute_result"
    }
   ],
   "source": [
    "df_feb.head()"
   ]
  },
  {
   "cell_type": "code",
   "execution_count": 8,
   "metadata": {
    "collapsed": false,
    "pycharm": {
     "name": "#%%\n"
    }
   },
   "outputs": [
    {
     "data": {
      "text/html": [
       "<div>\n",
       "<style scoped>\n",
       "    .dataframe tbody tr th:only-of-type {\n",
       "        vertical-align: middle;\n",
       "    }\n",
       "\n",
       "    .dataframe tbody tr th {\n",
       "        vertical-align: top;\n",
       "    }\n",
       "\n",
       "    .dataframe thead th {\n",
       "        text-align: right;\n",
       "    }\n",
       "</style>\n",
       "<table border=\"1\" class=\"dataframe\">\n",
       "  <thead>\n",
       "    <tr style=\"text-align: right;\">\n",
       "      <th></th>\n",
       "      <th>VendorID</th>\n",
       "      <th>tpep_pickup_datetime</th>\n",
       "      <th>tpep_dropoff_datetime</th>\n",
       "      <th>passenger_count</th>\n",
       "      <th>trip_distance</th>\n",
       "      <th>RatecodeID</th>\n",
       "      <th>store_and_fwd_flag</th>\n",
       "      <th>PULocationID</th>\n",
       "      <th>DOLocationID</th>\n",
       "      <th>payment_type</th>\n",
       "      <th>fare_amount</th>\n",
       "      <th>extra</th>\n",
       "      <th>mta_tax</th>\n",
       "      <th>tip_amount</th>\n",
       "      <th>tolls_amount</th>\n",
       "      <th>improvement_surcharge</th>\n",
       "      <th>total_amount</th>\n",
       "      <th>congestion_surcharge</th>\n",
       "      <th>airport_fee</th>\n",
       "    </tr>\n",
       "  </thead>\n",
       "  <tbody>\n",
       "    <tr>\n",
       "      <th>6299362</th>\n",
       "      <td>2</td>\n",
       "      <td>2020-02-29 23:24:00</td>\n",
       "      <td>2020-02-29 23:55:00</td>\n",
       "      <td>NaN</td>\n",
       "      <td>10.59</td>\n",
       "      <td>NaN</td>\n",
       "      <td>None</td>\n",
       "      <td>225</td>\n",
       "      <td>205</td>\n",
       "      <td>0</td>\n",
       "      <td>48.85</td>\n",
       "      <td>2.75</td>\n",
       "      <td>0.5</td>\n",
       "      <td>0.0</td>\n",
       "      <td>0.00</td>\n",
       "      <td>0.3</td>\n",
       "      <td>52.40</td>\n",
       "      <td>NaN</td>\n",
       "      <td>None</td>\n",
       "    </tr>\n",
       "    <tr>\n",
       "      <th>6299363</th>\n",
       "      <td>6</td>\n",
       "      <td>2020-02-29 23:02:01</td>\n",
       "      <td>2020-02-29 23:02:25</td>\n",
       "      <td>NaN</td>\n",
       "      <td>5.88</td>\n",
       "      <td>NaN</td>\n",
       "      <td>None</td>\n",
       "      <td>265</td>\n",
       "      <td>226</td>\n",
       "      <td>0</td>\n",
       "      <td>26.65</td>\n",
       "      <td>2.33</td>\n",
       "      <td>0.5</td>\n",
       "      <td>0.0</td>\n",
       "      <td>0.00</td>\n",
       "      <td>0.3</td>\n",
       "      <td>32.28</td>\n",
       "      <td>NaN</td>\n",
       "      <td>None</td>\n",
       "    </tr>\n",
       "    <tr>\n",
       "      <th>6299364</th>\n",
       "      <td>2</td>\n",
       "      <td>2020-02-29 23:35:00</td>\n",
       "      <td>2020-02-29 23:58:00</td>\n",
       "      <td>NaN</td>\n",
       "      <td>4.46</td>\n",
       "      <td>NaN</td>\n",
       "      <td>None</td>\n",
       "      <td>45</td>\n",
       "      <td>80</td>\n",
       "      <td>0</td>\n",
       "      <td>24.70</td>\n",
       "      <td>2.75</td>\n",
       "      <td>0.5</td>\n",
       "      <td>0.0</td>\n",
       "      <td>0.00</td>\n",
       "      <td>0.3</td>\n",
       "      <td>28.25</td>\n",
       "      <td>NaN</td>\n",
       "      <td>None</td>\n",
       "    </tr>\n",
       "    <tr>\n",
       "      <th>6299365</th>\n",
       "      <td>2</td>\n",
       "      <td>2020-02-29 23:42:00</td>\n",
       "      <td>2020-03-01 00:11:00</td>\n",
       "      <td>NaN</td>\n",
       "      <td>15.73</td>\n",
       "      <td>NaN</td>\n",
       "      <td>None</td>\n",
       "      <td>235</td>\n",
       "      <td>197</td>\n",
       "      <td>0</td>\n",
       "      <td>53.03</td>\n",
       "      <td>2.75</td>\n",
       "      <td>0.5</td>\n",
       "      <td>0.0</td>\n",
       "      <td>6.12</td>\n",
       "      <td>0.3</td>\n",
       "      <td>62.70</td>\n",
       "      <td>NaN</td>\n",
       "      <td>None</td>\n",
       "    </tr>\n",
       "    <tr>\n",
       "      <th>6299366</th>\n",
       "      <td>6</td>\n",
       "      <td>2020-02-29 23:02:13</td>\n",
       "      <td>2020-03-01 00:03:24</td>\n",
       "      <td>NaN</td>\n",
       "      <td>11.34</td>\n",
       "      <td>NaN</td>\n",
       "      <td>None</td>\n",
       "      <td>265</td>\n",
       "      <td>116</td>\n",
       "      <td>0</td>\n",
       "      <td>37.62</td>\n",
       "      <td>3.29</td>\n",
       "      <td>0.5</td>\n",
       "      <td>0.0</td>\n",
       "      <td>0.00</td>\n",
       "      <td>0.3</td>\n",
       "      <td>44.21</td>\n",
       "      <td>NaN</td>\n",
       "      <td>None</td>\n",
       "    </tr>\n",
       "  </tbody>\n",
       "</table>\n",
       "</div>"
      ],
      "text/plain": [
       "         VendorID tpep_pickup_datetime tpep_dropoff_datetime  passenger_count  \\\n",
       "6299362         2  2020-02-29 23:24:00   2020-02-29 23:55:00              NaN   \n",
       "6299363         6  2020-02-29 23:02:01   2020-02-29 23:02:25              NaN   \n",
       "6299364         2  2020-02-29 23:35:00   2020-02-29 23:58:00              NaN   \n",
       "6299365         2  2020-02-29 23:42:00   2020-03-01 00:11:00              NaN   \n",
       "6299366         6  2020-02-29 23:02:13   2020-03-01 00:03:24              NaN   \n",
       "\n",
       "         trip_distance  RatecodeID store_and_fwd_flag  PULocationID  \\\n",
       "6299362          10.59         NaN               None           225   \n",
       "6299363           5.88         NaN               None           265   \n",
       "6299364           4.46         NaN               None            45   \n",
       "6299365          15.73         NaN               None           235   \n",
       "6299366          11.34         NaN               None           265   \n",
       "\n",
       "         DOLocationID  payment_type  fare_amount  extra  mta_tax  tip_amount  \\\n",
       "6299362           205             0        48.85   2.75      0.5         0.0   \n",
       "6299363           226             0        26.65   2.33      0.5         0.0   \n",
       "6299364            80             0        24.70   2.75      0.5         0.0   \n",
       "6299365           197             0        53.03   2.75      0.5         0.0   \n",
       "6299366           116             0        37.62   3.29      0.5         0.0   \n",
       "\n",
       "         tolls_amount  improvement_surcharge  total_amount  \\\n",
       "6299362          0.00                    0.3         52.40   \n",
       "6299363          0.00                    0.3         32.28   \n",
       "6299364          0.00                    0.3         28.25   \n",
       "6299365          6.12                    0.3         62.70   \n",
       "6299366          0.00                    0.3         44.21   \n",
       "\n",
       "         congestion_surcharge airport_fee  \n",
       "6299362                   NaN        None  \n",
       "6299363                   NaN        None  \n",
       "6299364                   NaN        None  \n",
       "6299365                   NaN        None  \n",
       "6299366                   NaN        None  "
      ]
     },
     "execution_count": 8,
     "metadata": {},
     "output_type": "execute_result"
    }
   ],
   "source": [
    "df_feb.tail()"
   ]
  },
  {
   "cell_type": "markdown",
   "metadata": {},
   "source": [
    "## 1.2 Tipos de datos y tipos de variables"
   ]
  },
  {
   "cell_type": "code",
   "execution_count": 4,
   "metadata": {},
   "outputs": [
    {
     "data": {
      "text/plain": [
       "VendorID                          int64\n",
       "tpep_pickup_datetime     datetime64[ns]\n",
       "tpep_dropoff_datetime    datetime64[ns]\n",
       "passenger_count                 float64\n",
       "trip_distance                   float64\n",
       "RatecodeID                      float64\n",
       "store_and_fwd_flag               object\n",
       "PULocationID                      int64\n",
       "DOLocationID                      int64\n",
       "payment_type                      int64\n",
       "fare_amount                     float64\n",
       "extra                           float64\n",
       "mta_tax                         float64\n",
       "tip_amount                      float64\n",
       "tolls_amount                    float64\n",
       "improvement_surcharge           float64\n",
       "total_amount                    float64\n",
       "congestion_surcharge            float64\n",
       "airport_fee                      object\n",
       "dtype: object"
      ]
     },
     "execution_count": 4,
     "metadata": {},
     "output_type": "execute_result"
    }
   ],
   "source": [
    "df_feb.dtypes"
   ]
  },
  {
   "cell_type": "code",
   "execution_count": 5,
   "metadata": {},
   "outputs": [
    {
     "data": {
      "text/plain": [
       "VendorID                       4\n",
       "tpep_pickup_datetime     2027136\n",
       "tpep_dropoff_datetime    2031299\n",
       "passenger_count               10\n",
       "trip_distance               4391\n",
       "RatecodeID                     7\n",
       "store_and_fwd_flag             2\n",
       "PULocationID                 259\n",
       "DOLocationID                 261\n",
       "payment_type                   5\n",
       "fare_amount                 5137\n",
       "extra                        122\n",
       "mta_tax                       11\n",
       "tip_amount                  3680\n",
       "tolls_amount                 937\n",
       "improvement_surcharge          3\n",
       "total_amount               12311\n",
       "congestion_surcharge           7\n",
       "airport_fee                    0\n",
       "dtype: int64"
      ]
     },
     "execution_count": 5,
     "metadata": {},
     "output_type": "execute_result"
    }
   ],
   "source": [
    "df_feb.nunique()"
   ]
  },
  {
   "cell_type": "markdown",
   "metadata": {},
   "source": [
    "## 1.2.1 Tipos de variables del dataset\n",
    "\n",
    "Se analiza la descripcion de las features del dataset provistas por el proveedor del dataset. \n",
    "File: data_dictionary_trip_records_yellow.pdf\n",
    "\n",
    "### Numericas Discretas (variable no puede tomar valores entre dos valores contiguos)\n",
    "passenger_count --------------------- float64  //los pasajeros saltan de a 1 <br>\n",
    "tolls_amount --------------------- float64 <br>\n",
    "% es funcion de variables discretas es decir cobinacion lineal de 0,1,2,3 etc peajes que hubo durante el viaje.  <br> <br> \n",
    "\n",
    "\n",
    "### Numericas Continuas (variable puede tomar valores en un rango)\n",
    "trip_distance --------------------- float64<br>\n",
    "fare_amount --------------------- float64<br> \n",
    "tip_amount --------------------- loat64<br>\n",
    "total_amount --------------------- float64<br>\n",
    "\n",
    "### Categoricas Nominales (variable qualitativa, pone un nombre/label sin orden interinseco entre valores)\n",
    "VendorID --------------------- int64 --------------------- Cardinalidad:2 // nombre de empresa<br>\n",
    "congestion_surcharge --------------------- float64 --------------------- Cardinalidad:2 // se cobra o no<br>\n",
    "extra --------------------- float64 --------------------- Cardinalidad:2 // tres categorias disitntas<br> \n",
    "\n",
    "payment_type --------------------- int64 --------------------- Cardinalidad:6 // forma de pago<br> \n",
    "airport_fee  --------------------- object --------------------- Cardinalidad:2 // se cobra o no<br>\n",
    "mta_tax --------------------- float64 --------------------- Cardinalidad:2 // se cobra o no <br>\n",
    "improvement_surcharge  --------------------- float64 --------------------- Cardinalidad:2 //se cobra o no <br>\n",
    "store_and_fwd_flag --------------------- object --------------------- Cardinalidad:2 // dos categorias <br>\n",
    "RatecodeID --------------------- float64 --------------------- Cardinalidad:6 // ID de la tarifa seleccionada al momento de terminar el viaje <br>\n",
    "\n",
    "\n",
    "### categoricas ordinales (variable qualitativa, pone un nombre/label CON orden interinseco entre valores)\n",
    "PULocationID --------------------- int64 --------------------- Cardinalidad:2 // nombre, orden es localizaion geografica<br> \n",
    "DOLocationID --------------------- int64 --------------------- Cardinalidad:2 // nombre, orden es localizaion geografica<br>\n",
    "\n",
    "\n",
    "### Fecha y hora\n",
    "tpep_pickup_datetime --------------------- datetime64[ns]<br>\n",
    "tpep_dropoff_datetime --------------------- datetime64[ns]<br>\n",
    "\n",
    "### Compuestas\n",
    "//no hay"
   ]
  },
  {
   "cell_type": "markdown",
   "metadata": {},
   "source": [
    "## que se va a responder del dataset (parte del entregable)"
   ]
  },
  {
   "cell_type": "markdown",
   "metadata": {},
   "source": [
    "## 1.2.2 Identificacion de variables de entrada y de salida"
   ]
  },
  {
   "cell_type": "markdown",
   "metadata": {
    "collapsed": false,
    "pycharm": {
     "name": "#%% md\n"
    }
   },
   "source": [
    "Variable de salida : total_amount, congestion_surcharge,fare_amount,tolls_amount\n",
    "Variables independientes:\n",
    "Variables categoricas: No hay categorias en las columnas(ej. meses, nombres propios, etc)"
   ]
  },
  {
   "cell_type": "code",
   "execution_count": 15,
   "metadata": {
    "collapsed": false,
    "pycharm": {
     "name": "#%%\n"
    }
   },
   "outputs": [
    {
     "data": {
      "text/html": [
       "<div>\n",
       "<style scoped>\n",
       "    .dataframe tbody tr th:only-of-type {\n",
       "        vertical-align: middle;\n",
       "    }\n",
       "\n",
       "    .dataframe tbody tr th {\n",
       "        vertical-align: top;\n",
       "    }\n",
       "\n",
       "    .dataframe thead th {\n",
       "        text-align: right;\n",
       "    }\n",
       "</style>\n",
       "<table border=\"1\" class=\"dataframe\">\n",
       "  <thead>\n",
       "    <tr style=\"text-align: right;\">\n",
       "      <th></th>\n",
       "      <th>VendorID</th>\n",
       "      <th>tpep_pickup_datetime</th>\n",
       "      <th>tpep_dropoff_datetime</th>\n",
       "      <th>passenger_count</th>\n",
       "      <th>trip_distance</th>\n",
       "      <th>RatecodeID</th>\n",
       "      <th>store_and_fwd_flag</th>\n",
       "      <th>PULocationID</th>\n",
       "      <th>DOLocationID</th>\n",
       "      <th>payment_type</th>\n",
       "      <th>fare_amount</th>\n",
       "      <th>extra</th>\n",
       "      <th>mta_tax</th>\n",
       "      <th>tip_amount</th>\n",
       "      <th>tolls_amount</th>\n",
       "      <th>improvement_surcharge</th>\n",
       "      <th>total_amount</th>\n",
       "      <th>congestion_surcharge</th>\n",
       "      <th>airport_fee</th>\n",
       "    </tr>\n",
       "  </thead>\n",
       "  <tbody>\n",
       "    <tr>\n",
       "      <th>0</th>\n",
       "      <td>2</td>\n",
       "      <td>2020-02-28 17:55:01</td>\n",
       "      <td>2020-02-23</td>\n",
       "      <td>1.0</td>\n",
       "      <td>0.8</td>\n",
       "      <td>1.0</td>\n",
       "      <td>N</td>\n",
       "      <td>161</td>\n",
       "      <td>236</td>\n",
       "      <td>1</td>\n",
       "      <td>6.0</td>\n",
       "      <td>0.0</td>\n",
       "      <td>0.5</td>\n",
       "      <td>0.0</td>\n",
       "      <td>0.0</td>\n",
       "      <td>0.3</td>\n",
       "      <td>10.3</td>\n",
       "      <td>2.5</td>\n",
       "      <td>NaN</td>\n",
       "    </tr>\n",
       "  </tbody>\n",
       "</table>\n",
       "</div>"
      ],
      "text/plain": [
       "   VendorID tpep_pickup_datetime tpep_dropoff_datetime  passenger_count  \\\n",
       "0         2  2020-02-28 17:55:01            2020-02-23              1.0   \n",
       "\n",
       "   trip_distance  RatecodeID store_and_fwd_flag  PULocationID  DOLocationID  \\\n",
       "0            0.8         1.0                  N           161           236   \n",
       "\n",
       "   payment_type  fare_amount  extra  mta_tax  tip_amount  tolls_amount  \\\n",
       "0             1          6.0    0.0      0.5         0.0           0.0   \n",
       "\n",
       "   improvement_surcharge  total_amount  congestion_surcharge airport_fee  \n",
       "0                    0.3          10.3                   2.5         NaN  "
      ]
     },
     "execution_count": 15,
     "metadata": {},
     "output_type": "execute_result"
    }
   ],
   "source": []
  },
  {
   "cell_type": "markdown",
   "metadata": {},
   "source": [
    "## 1.3 Handling missing data"
   ]
  },
  {
   "cell_type": "code",
   "execution_count": null,
   "metadata": {},
   "outputs": [],
   "source": [
    "df_feb.isna().values.any()"
   ]
  },
  {
   "cell_type": "code",
   "execution_count": null,
   "metadata": {},
   "outputs": [],
   "source": [
    "pd.isna(df_feb)"
   ]
  },
  {
   "cell_type": "markdown",
   "metadata": {},
   "source": [
    "Analisis: tenemos missing values. de los siguientes tipos:\n",
    "- NaNs  ver tail congestion_surcharge\n",
    "- None  ver tail airport_fee"
   ]
  },
  {
   "cell_type": "code",
   "execution_count": null,
   "metadata": {},
   "outputs": [],
   "source": [
    "df_feb.isnull().sum()"
   ]
  },
  {
   "cell_type": "markdown",
   "metadata": {},
   "source": [
    "# Annex 1- tipos de variables\n",
    "Tipos de variables \n",
    "\n",
    "Categóricas. Datos con un número limitado de valores o categorías distintas (por ejemplo, género o religión). Las variables categóricas pueden ser variables de cadena (alfanuméricas) o variables numéricas que utilizan códigos numéricos para representar a categorías (por ejemplo, 0 = hombre y 1 = mujer). También se hace referencia a estos datos como datos cualitativos. Las variables categóricas pueden ser nominales u ordinales\n",
    "\n",
    "Nominal. Una variable puede tratarse como nominal cuando sus valores representan categorías sin clasificación intrínseca (por ejemplo, el departamento de la empresa en la que trabaja un empleado). Ejemplos de variables nominales incluyen la región, el código postal y la afiliación religiosa.\n",
    "\n",
    "Ordinal. Una variable puede ser tratada como ordinal cuando sus valores representan categorías con alguna clasificación intrínseca (por ejemplo, niveles de satisfacción de servicio de altamente insatisfecho a altamente satisfecho). Ejemplos de variables ordinales incluyen puntuaciones de actitud que representan grado de satisfacción o confianza y puntuaciones de calificación de preferencia.\n",
    "\n",
    "\n",
    "CATEGORICAL VARIABLES: In statistics, a categorical variable (also called qualitative variable) is a variable that can take on one of a limited, and usually fixed, number of possible values, assigning each individual or other unit of observation to a particular group or nominal category on the basis of some qualitative property\n",
    "\n",
    "NOMINAL VARIABLES: A nominal category or a nominal group is a group of objects or ideas that can be collectively grouped on the basis of a particular characteristic—a qualitative property. A variable that codes whether each one in a set of observations is in a particular nominal category is called a categorical variable. \n",
    "\n",
    "ORDINAL VARIABLES: Ordinal data is a categorical, statistical data type where the variables have natural, ordered categories and the distances between the categories are not known."
   ]
  }
 ],
 "metadata": {
  "kernelspec": {
   "display_name": "Python 3.8.13 ('FIUBA001')",
   "language": "python",
   "name": "python3"
  },
  "language_info": {
   "codemirror_mode": {
    "name": "ipython",
    "version": 3
   },
   "file_extension": ".py",
   "mimetype": "text/x-python",
   "name": "python",
   "nbconvert_exporter": "python",
   "pygments_lexer": "ipython3",
   "version": "3.8.13"
  },
  "orig_nbformat": 4,
  "vscode": {
   "interpreter": {
    "hash": "c28c3cf458679f9b83f61209d65f8a8f2d99f99372cb71f1948565dfdc4b7b2a"
   }
  }
 },
 "nbformat": 4,
 "nbformat_minor": 2
}
